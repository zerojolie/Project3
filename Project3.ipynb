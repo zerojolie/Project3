{
 "cells": [
  {
   "cell_type": "markdown",
   "metadata": {},
   "source": [
    "# Восстановление золота из руды"
   ]
  },
  {
   "cell_type": "markdown",
   "metadata": {},
   "source": [
    "Подготовьте прототип модели машинного обучения для «Цифры». Компания разрабатывает решения для эффективной работы промышленных предприятий.\n",
    "\n",
    "Модель должна предсказать коэффициент восстановления золота из золотосодержащей руды. Используйте данные с параметрами добычи и очистки. \n",
    "\n",
    "Модель поможет оптимизировать производство, чтобы не запускать предприятие с убыточными характеристиками.\n",
    "\n",
    "Вам нужно:\n",
    "\n",
    "1. Подготовить данные;\n",
    "2. Провести исследовательский анализ данных;\n",
    "3. Построить и обучить модель.\n",
    "\n",
    "Чтобы выполнить проект, обращайтесь к библиотекам *pandas*, *matplotlib* и *sklearn.* Вам поможет их документация."
   ]
  },
  {
   "cell_type": "markdown",
   "metadata": {},
   "source": [
    "## Подготовка данных"
   ]
  },
  {
   "cell_type": "markdown",
   "metadata": {},
   "source": [
    "# Импорт библотек"
   ]
  },
  {
   "cell_type": "code",
   "execution_count": 1,
   "metadata": {},
   "outputs": [],
   "source": [
    "import pandas as pd \n",
    "import matplotlib.pyplot as plt \n",
    "plt.style.use('seaborn-pastel')\n",
    "import seaborn as sns \n",
    "import numpy as np \n",
    "\n",
    "from sklearn.model_selection import train_test_split, cross_val_score\n",
    "from sklearn.preprocessing import StandardScaler\n",
    "from sklearn.metrics import make_scorer, mean_absolute_error\n",
    "from sklearn.impute import KNNImputer\n",
    "from sklearn.linear_model import LinearRegression \n",
    "from sklearn.tree import DecisionTreeRegressor\n",
    "from sklearn.ensemble import RandomForestRegressor\n",
    "from sklearn.dummy import DummyRegressor\n",
    "import time\n",
    "from tqdm import tqdm \n",
    "from sklearn.model_selection import GridSearchCV\n",
    "import warnings\n",
    "warnings.filterwarnings(\"ignore\")"
   ]
  },
  {
   "cell_type": "code",
   "execution_count": 2,
   "metadata": {},
   "outputs": [],
   "source": [
    "data_train = pd.read_csv('/datasets/gold_recovery_train_new.csv')\n",
    "data_test = pd.read_csv('/datasets/gold_recovery_test_new.csv')\n",
    "data_full = pd.read_csv('/datasets/gold_recovery_full_new.csv')\n"
   ]
  },
  {
   "cell_type": "code",
   "execution_count": 3,
   "metadata": {},
   "outputs": [
    {
     "name": "stdout",
     "output_type": "stream",
     "text": [
      "<class 'pandas.core.frame.DataFrame'>\n",
      "RangeIndex: 14149 entries, 0 to 14148\n",
      "Data columns (total 87 columns):\n",
      " #   Column                                              Non-Null Count  Dtype  \n",
      "---  ------                                              --------------  -----  \n",
      " 0   date                                                14149 non-null  object \n",
      " 1   final.output.concentrate_ag                         14148 non-null  float64\n",
      " 2   final.output.concentrate_pb                         14148 non-null  float64\n",
      " 3   final.output.concentrate_sol                        13938 non-null  float64\n",
      " 4   final.output.concentrate_au                         14149 non-null  float64\n",
      " 5   final.output.recovery                               14149 non-null  float64\n",
      " 6   final.output.tail_ag                                14149 non-null  float64\n",
      " 7   final.output.tail_pb                                14049 non-null  float64\n",
      " 8   final.output.tail_sol                               14144 non-null  float64\n",
      " 9   final.output.tail_au                                14149 non-null  float64\n",
      " 10  primary_cleaner.input.sulfate                       14129 non-null  float64\n",
      " 11  primary_cleaner.input.depressant                    14117 non-null  float64\n",
      " 12  primary_cleaner.input.feed_size                     14149 non-null  float64\n",
      " 13  primary_cleaner.input.xanthate                      14049 non-null  float64\n",
      " 14  primary_cleaner.output.concentrate_ag               14149 non-null  float64\n",
      " 15  primary_cleaner.output.concentrate_pb               14063 non-null  float64\n",
      " 16  primary_cleaner.output.concentrate_sol              13863 non-null  float64\n",
      " 17  primary_cleaner.output.concentrate_au               14149 non-null  float64\n",
      " 18  primary_cleaner.output.tail_ag                      14148 non-null  float64\n",
      " 19  primary_cleaner.output.tail_pb                      14134 non-null  float64\n",
      " 20  primary_cleaner.output.tail_sol                     14103 non-null  float64\n",
      " 21  primary_cleaner.output.tail_au                      14149 non-null  float64\n",
      " 22  primary_cleaner.state.floatbank8_a_air              14145 non-null  float64\n",
      " 23  primary_cleaner.state.floatbank8_a_level            14148 non-null  float64\n",
      " 24  primary_cleaner.state.floatbank8_b_air              14145 non-null  float64\n",
      " 25  primary_cleaner.state.floatbank8_b_level            14148 non-null  float64\n",
      " 26  primary_cleaner.state.floatbank8_c_air              14147 non-null  float64\n",
      " 27  primary_cleaner.state.floatbank8_c_level            14148 non-null  float64\n",
      " 28  primary_cleaner.state.floatbank8_d_air              14146 non-null  float64\n",
      " 29  primary_cleaner.state.floatbank8_d_level            14148 non-null  float64\n",
      " 30  rougher.calculation.sulfate_to_au_concentrate       14148 non-null  float64\n",
      " 31  rougher.calculation.floatbank10_sulfate_to_au_feed  14148 non-null  float64\n",
      " 32  rougher.calculation.floatbank11_sulfate_to_au_feed  14148 non-null  float64\n",
      " 33  rougher.calculation.au_pb_ratio                     14149 non-null  float64\n",
      " 34  rougher.input.feed_ag                               14149 non-null  float64\n",
      " 35  rougher.input.feed_pb                               14049 non-null  float64\n",
      " 36  rougher.input.feed_rate                             14141 non-null  float64\n",
      " 37  rougher.input.feed_size                             14005 non-null  float64\n",
      " 38  rougher.input.feed_sol                              14071 non-null  float64\n",
      " 39  rougher.input.feed_au                               14149 non-null  float64\n",
      " 40  rougher.input.floatbank10_sulfate                   14120 non-null  float64\n",
      " 41  rougher.input.floatbank10_xanthate                  14141 non-null  float64\n",
      " 42  rougher.input.floatbank11_sulfate                   14113 non-null  float64\n",
      " 43  rougher.input.floatbank11_xanthate                  13721 non-null  float64\n",
      " 44  rougher.output.concentrate_ag                       14149 non-null  float64\n",
      " 45  rougher.output.concentrate_pb                       14149 non-null  float64\n",
      " 46  rougher.output.concentrate_sol                      14127 non-null  float64\n",
      " 47  rougher.output.concentrate_au                       14149 non-null  float64\n",
      " 48  rougher.output.recovery                             14149 non-null  float64\n",
      " 49  rougher.output.tail_ag                              14148 non-null  float64\n",
      " 50  rougher.output.tail_pb                              14149 non-null  float64\n",
      " 51  rougher.output.tail_sol                             14149 non-null  float64\n",
      " 52  rougher.output.tail_au                              14149 non-null  float64\n",
      " 53  rougher.state.floatbank10_a_air                     14148 non-null  float64\n",
      " 54  rougher.state.floatbank10_a_level                   14148 non-null  float64\n",
      " 55  rougher.state.floatbank10_b_air                     14148 non-null  float64\n",
      " 56  rougher.state.floatbank10_b_level                   14148 non-null  float64\n",
      " 57  rougher.state.floatbank10_c_air                     14148 non-null  float64\n",
      " 58  rougher.state.floatbank10_c_level                   14148 non-null  float64\n",
      " 59  rougher.state.floatbank10_d_air                     14149 non-null  float64\n",
      " 60  rougher.state.floatbank10_d_level                   14149 non-null  float64\n",
      " 61  rougher.state.floatbank10_e_air                     13713 non-null  float64\n",
      " 62  rougher.state.floatbank10_e_level                   14149 non-null  float64\n",
      " 63  rougher.state.floatbank10_f_air                     14149 non-null  float64\n",
      " 64  rougher.state.floatbank10_f_level                   14149 non-null  float64\n",
      " 65  secondary_cleaner.output.tail_ag                    14147 non-null  float64\n",
      " 66  secondary_cleaner.output.tail_pb                    14139 non-null  float64\n",
      " 67  secondary_cleaner.output.tail_sol                   12544 non-null  float64\n",
      " 68  secondary_cleaner.output.tail_au                    14149 non-null  float64\n",
      " 69  secondary_cleaner.state.floatbank2_a_air            13932 non-null  float64\n",
      " 70  secondary_cleaner.state.floatbank2_a_level          14148 non-null  float64\n",
      " 71  secondary_cleaner.state.floatbank2_b_air            14128 non-null  float64\n",
      " 72  secondary_cleaner.state.floatbank2_b_level          14148 non-null  float64\n",
      " 73  secondary_cleaner.state.floatbank3_a_air            14145 non-null  float64\n",
      " 74  secondary_cleaner.state.floatbank3_a_level          14148 non-null  float64\n",
      " 75  secondary_cleaner.state.floatbank3_b_air            14148 non-null  float64\n",
      " 76  secondary_cleaner.state.floatbank3_b_level          14148 non-null  float64\n",
      " 77  secondary_cleaner.state.floatbank4_a_air            14143 non-null  float64\n",
      " 78  secondary_cleaner.state.floatbank4_a_level          14148 non-null  float64\n",
      " 79  secondary_cleaner.state.floatbank4_b_air            14148 non-null  float64\n",
      " 80  secondary_cleaner.state.floatbank4_b_level          14148 non-null  float64\n",
      " 81  secondary_cleaner.state.floatbank5_a_air            14148 non-null  float64\n",
      " 82  secondary_cleaner.state.floatbank5_a_level          14148 non-null  float64\n",
      " 83  secondary_cleaner.state.floatbank5_b_air            14148 non-null  float64\n",
      " 84  secondary_cleaner.state.floatbank5_b_level          14148 non-null  float64\n",
      " 85  secondary_cleaner.state.floatbank6_a_air            14147 non-null  float64\n",
      " 86  secondary_cleaner.state.floatbank6_a_level          14148 non-null  float64\n",
      "dtypes: float64(86), object(1)\n",
      "memory usage: 9.4+ MB\n"
     ]
    }
   ],
   "source": [
    "data_train.info()"
   ]
  },
  {
   "cell_type": "code",
   "execution_count": 4,
   "metadata": {},
   "outputs": [
    {
     "name": "stdout",
     "output_type": "stream",
     "text": [
      "<class 'pandas.core.frame.DataFrame'>\n",
      "RangeIndex: 5290 entries, 0 to 5289\n",
      "Data columns (total 53 columns):\n",
      " #   Column                                      Non-Null Count  Dtype  \n",
      "---  ------                                      --------------  -----  \n",
      " 0   date                                        5290 non-null   object \n",
      " 1   primary_cleaner.input.sulfate               5286 non-null   float64\n",
      " 2   primary_cleaner.input.depressant            5285 non-null   float64\n",
      " 3   primary_cleaner.input.feed_size             5290 non-null   float64\n",
      " 4   primary_cleaner.input.xanthate              5286 non-null   float64\n",
      " 5   primary_cleaner.state.floatbank8_a_air      5290 non-null   float64\n",
      " 6   primary_cleaner.state.floatbank8_a_level    5290 non-null   float64\n",
      " 7   primary_cleaner.state.floatbank8_b_air      5290 non-null   float64\n",
      " 8   primary_cleaner.state.floatbank8_b_level    5290 non-null   float64\n",
      " 9   primary_cleaner.state.floatbank8_c_air      5290 non-null   float64\n",
      " 10  primary_cleaner.state.floatbank8_c_level    5290 non-null   float64\n",
      " 11  primary_cleaner.state.floatbank8_d_air      5290 non-null   float64\n",
      " 12  primary_cleaner.state.floatbank8_d_level    5290 non-null   float64\n",
      " 13  rougher.input.feed_ag                       5290 non-null   float64\n",
      " 14  rougher.input.feed_pb                       5290 non-null   float64\n",
      " 15  rougher.input.feed_rate                     5287 non-null   float64\n",
      " 16  rougher.input.feed_size                     5289 non-null   float64\n",
      " 17  rougher.input.feed_sol                      5269 non-null   float64\n",
      " 18  rougher.input.feed_au                       5290 non-null   float64\n",
      " 19  rougher.input.floatbank10_sulfate           5285 non-null   float64\n",
      " 20  rougher.input.floatbank10_xanthate          5290 non-null   float64\n",
      " 21  rougher.input.floatbank11_sulfate           5282 non-null   float64\n",
      " 22  rougher.input.floatbank11_xanthate          5265 non-null   float64\n",
      " 23  rougher.state.floatbank10_a_air             5290 non-null   float64\n",
      " 24  rougher.state.floatbank10_a_level           5290 non-null   float64\n",
      " 25  rougher.state.floatbank10_b_air             5290 non-null   float64\n",
      " 26  rougher.state.floatbank10_b_level           5290 non-null   float64\n",
      " 27  rougher.state.floatbank10_c_air             5290 non-null   float64\n",
      " 28  rougher.state.floatbank10_c_level           5290 non-null   float64\n",
      " 29  rougher.state.floatbank10_d_air             5290 non-null   float64\n",
      " 30  rougher.state.floatbank10_d_level           5290 non-null   float64\n",
      " 31  rougher.state.floatbank10_e_air             5290 non-null   float64\n",
      " 32  rougher.state.floatbank10_e_level           5290 non-null   float64\n",
      " 33  rougher.state.floatbank10_f_air             5290 non-null   float64\n",
      " 34  rougher.state.floatbank10_f_level           5290 non-null   float64\n",
      " 35  secondary_cleaner.state.floatbank2_a_air    5287 non-null   float64\n",
      " 36  secondary_cleaner.state.floatbank2_a_level  5290 non-null   float64\n",
      " 37  secondary_cleaner.state.floatbank2_b_air    5288 non-null   float64\n",
      " 38  secondary_cleaner.state.floatbank2_b_level  5290 non-null   float64\n",
      " 39  secondary_cleaner.state.floatbank3_a_air    5281 non-null   float64\n",
      " 40  secondary_cleaner.state.floatbank3_a_level  5290 non-null   float64\n",
      " 41  secondary_cleaner.state.floatbank3_b_air    5290 non-null   float64\n",
      " 42  secondary_cleaner.state.floatbank3_b_level  5290 non-null   float64\n",
      " 43  secondary_cleaner.state.floatbank4_a_air    5290 non-null   float64\n",
      " 44  secondary_cleaner.state.floatbank4_a_level  5290 non-null   float64\n",
      " 45  secondary_cleaner.state.floatbank4_b_air    5290 non-null   float64\n",
      " 46  secondary_cleaner.state.floatbank4_b_level  5290 non-null   float64\n",
      " 47  secondary_cleaner.state.floatbank5_a_air    5290 non-null   float64\n",
      " 48  secondary_cleaner.state.floatbank5_a_level  5290 non-null   float64\n",
      " 49  secondary_cleaner.state.floatbank5_b_air    5290 non-null   float64\n",
      " 50  secondary_cleaner.state.floatbank5_b_level  5290 non-null   float64\n",
      " 51  secondary_cleaner.state.floatbank6_a_air    5290 non-null   float64\n",
      " 52  secondary_cleaner.state.floatbank6_a_level  5290 non-null   float64\n",
      "dtypes: float64(52), object(1)\n",
      "memory usage: 2.1+ MB\n"
     ]
    }
   ],
   "source": [
    "data_test.info()"
   ]
  },
  {
   "cell_type": "code",
   "execution_count": 5,
   "metadata": {},
   "outputs": [
    {
     "name": "stdout",
     "output_type": "stream",
     "text": [
      "<class 'pandas.core.frame.DataFrame'>\n",
      "RangeIndex: 19439 entries, 0 to 19438\n",
      "Data columns (total 87 columns):\n",
      " #   Column                                              Non-Null Count  Dtype  \n",
      "---  ------                                              --------------  -----  \n",
      " 0   date                                                19439 non-null  object \n",
      " 1   final.output.concentrate_ag                         19438 non-null  float64\n",
      " 2   final.output.concentrate_pb                         19438 non-null  float64\n",
      " 3   final.output.concentrate_sol                        19228 non-null  float64\n",
      " 4   final.output.concentrate_au                         19439 non-null  float64\n",
      " 5   final.output.recovery                               19439 non-null  float64\n",
      " 6   final.output.tail_ag                                19438 non-null  float64\n",
      " 7   final.output.tail_pb                                19338 non-null  float64\n",
      " 8   final.output.tail_sol                               19433 non-null  float64\n",
      " 9   final.output.tail_au                                19439 non-null  float64\n",
      " 10  primary_cleaner.input.sulfate                       19415 non-null  float64\n",
      " 11  primary_cleaner.input.depressant                    19402 non-null  float64\n",
      " 12  primary_cleaner.input.feed_size                     19439 non-null  float64\n",
      " 13  primary_cleaner.input.xanthate                      19335 non-null  float64\n",
      " 14  primary_cleaner.output.concentrate_ag               19439 non-null  float64\n",
      " 15  primary_cleaner.output.concentrate_pb               19323 non-null  float64\n",
      " 16  primary_cleaner.output.concentrate_sol              19069 non-null  float64\n",
      " 17  primary_cleaner.output.concentrate_au               19439 non-null  float64\n",
      " 18  primary_cleaner.output.tail_ag                      19435 non-null  float64\n",
      " 19  primary_cleaner.output.tail_pb                      19418 non-null  float64\n",
      " 20  primary_cleaner.output.tail_sol                     19377 non-null  float64\n",
      " 21  primary_cleaner.output.tail_au                      19439 non-null  float64\n",
      " 22  primary_cleaner.state.floatbank8_a_air              19435 non-null  float64\n",
      " 23  primary_cleaner.state.floatbank8_a_level            19438 non-null  float64\n",
      " 24  primary_cleaner.state.floatbank8_b_air              19435 non-null  float64\n",
      " 25  primary_cleaner.state.floatbank8_b_level            19438 non-null  float64\n",
      " 26  primary_cleaner.state.floatbank8_c_air              19437 non-null  float64\n",
      " 27  primary_cleaner.state.floatbank8_c_level            19438 non-null  float64\n",
      " 28  primary_cleaner.state.floatbank8_d_air              19436 non-null  float64\n",
      " 29  primary_cleaner.state.floatbank8_d_level            19438 non-null  float64\n",
      " 30  rougher.calculation.sulfate_to_au_concentrate       19437 non-null  float64\n",
      " 31  rougher.calculation.floatbank10_sulfate_to_au_feed  19437 non-null  float64\n",
      " 32  rougher.calculation.floatbank11_sulfate_to_au_feed  19437 non-null  float64\n",
      " 33  rougher.calculation.au_pb_ratio                     19439 non-null  float64\n",
      " 34  rougher.input.feed_ag                               19439 non-null  float64\n",
      " 35  rougher.input.feed_pb                               19339 non-null  float64\n",
      " 36  rougher.input.feed_rate                             19428 non-null  float64\n",
      " 37  rougher.input.feed_size                             19294 non-null  float64\n",
      " 38  rougher.input.feed_sol                              19340 non-null  float64\n",
      " 39  rougher.input.feed_au                               19439 non-null  float64\n",
      " 40  rougher.input.floatbank10_sulfate                   19405 non-null  float64\n",
      " 41  rougher.input.floatbank10_xanthate                  19431 non-null  float64\n",
      " 42  rougher.input.floatbank11_sulfate                   19395 non-null  float64\n",
      " 43  rougher.input.floatbank11_xanthate                  18986 non-null  float64\n",
      " 44  rougher.output.concentrate_ag                       19439 non-null  float64\n",
      " 45  rougher.output.concentrate_pb                       19439 non-null  float64\n",
      " 46  rougher.output.concentrate_sol                      19416 non-null  float64\n",
      " 47  rougher.output.concentrate_au                       19439 non-null  float64\n",
      " 48  rougher.output.recovery                             19439 non-null  float64\n",
      " 49  rougher.output.tail_ag                              19438 non-null  float64\n",
      " 50  rougher.output.tail_pb                              19439 non-null  float64\n",
      " 51  rougher.output.tail_sol                             19439 non-null  float64\n",
      " 52  rougher.output.tail_au                              19439 non-null  float64\n",
      " 53  rougher.state.floatbank10_a_air                     19438 non-null  float64\n",
      " 54  rougher.state.floatbank10_a_level                   19438 non-null  float64\n",
      " 55  rougher.state.floatbank10_b_air                     19438 non-null  float64\n",
      " 56  rougher.state.floatbank10_b_level                   19438 non-null  float64\n",
      " 57  rougher.state.floatbank10_c_air                     19438 non-null  float64\n",
      " 58  rougher.state.floatbank10_c_level                   19438 non-null  float64\n",
      " 59  rougher.state.floatbank10_d_air                     19439 non-null  float64\n",
      " 60  rougher.state.floatbank10_d_level                   19439 non-null  float64\n",
      " 61  rougher.state.floatbank10_e_air                     19003 non-null  float64\n",
      " 62  rougher.state.floatbank10_e_level                   19439 non-null  float64\n",
      " 63  rougher.state.floatbank10_f_air                     19439 non-null  float64\n",
      " 64  rougher.state.floatbank10_f_level                   19439 non-null  float64\n",
      " 65  secondary_cleaner.output.tail_ag                    19437 non-null  float64\n",
      " 66  secondary_cleaner.output.tail_pb                    19427 non-null  float64\n",
      " 67  secondary_cleaner.output.tail_sol                   17691 non-null  float64\n",
      " 68  secondary_cleaner.output.tail_au                    19439 non-null  float64\n",
      " 69  secondary_cleaner.state.floatbank2_a_air            19219 non-null  float64\n",
      " 70  secondary_cleaner.state.floatbank2_a_level          19438 non-null  float64\n",
      " 71  secondary_cleaner.state.floatbank2_b_air            19416 non-null  float64\n",
      " 72  secondary_cleaner.state.floatbank2_b_level          19438 non-null  float64\n",
      " 73  secondary_cleaner.state.floatbank3_a_air            19426 non-null  float64\n",
      " 74  secondary_cleaner.state.floatbank3_a_level          19438 non-null  float64\n",
      " 75  secondary_cleaner.state.floatbank3_b_air            19438 non-null  float64\n",
      " 76  secondary_cleaner.state.floatbank3_b_level          19438 non-null  float64\n",
      " 77  secondary_cleaner.state.floatbank4_a_air            19433 non-null  float64\n",
      " 78  secondary_cleaner.state.floatbank4_a_level          19438 non-null  float64\n",
      " 79  secondary_cleaner.state.floatbank4_b_air            19438 non-null  float64\n",
      " 80  secondary_cleaner.state.floatbank4_b_level          19438 non-null  float64\n",
      " 81  secondary_cleaner.state.floatbank5_a_air            19438 non-null  float64\n",
      " 82  secondary_cleaner.state.floatbank5_a_level          19438 non-null  float64\n",
      " 83  secondary_cleaner.state.floatbank5_b_air            19438 non-null  float64\n",
      " 84  secondary_cleaner.state.floatbank5_b_level          19438 non-null  float64\n",
      " 85  secondary_cleaner.state.floatbank6_a_air            19437 non-null  float64\n",
      " 86  secondary_cleaner.state.floatbank6_a_level          19438 non-null  float64\n",
      "dtypes: float64(86), object(1)\n",
      "memory usage: 12.9+ MB\n"
     ]
    }
   ],
   "source": [
    "data_full.info()"
   ]
  },
  {
   "cell_type": "markdown",
   "metadata": {},
   "source": [
    "Рассчитаем эффективность обогащения"
   ]
  },
  {
   "cell_type": "code",
   "execution_count": 6,
   "metadata": {},
   "outputs": [],
   "source": [
    "C = data_train['rougher.output.concentrate_au']\n",
    "F = data_train['rougher.input.feed_au']\n",
    "T = data_train['rougher.output.tail_au']"
   ]
  },
  {
   "cell_type": "code",
   "execution_count": 7,
   "metadata": {},
   "outputs": [],
   "source": [
    "recovery = C * (F - T) / (F * (C - T)) * 100"
   ]
  },
  {
   "cell_type": "code",
   "execution_count": 8,
   "metadata": {
    "scrolled": true
   },
   "outputs": [
    {
     "name": "stdout",
     "output_type": "stream",
     "text": [
      "MAE: 9.73512347450521e-15\n"
     ]
    }
   ],
   "source": [
    "print('MAE:',(abs(recovery - data_train['rougher.output.recovery']).sum()) / len(data_train))\n",
    "#нашли MAE по формуле"
   ]
  },
  {
   "cell_type": "markdown",
   "metadata": {},
   "source": [
    "Показетль MAE мал , а значит чем ниже MAE, тем лучше модель соответствует набору данных."
   ]
  },
  {
   "cell_type": "markdown",
   "metadata": {},
   "source": [
    "Анализ признаков, недоступных в тестовой выборке."
   ]
  },
  {
   "cell_type": "code",
   "execution_count": 9,
   "metadata": {},
   "outputs": [
    {
     "data": {
      "text/plain": [
       "['final.output.concentrate_ag',\n",
       " 'final.output.concentrate_pb',\n",
       " 'final.output.concentrate_sol',\n",
       " 'final.output.concentrate_au',\n",
       " 'final.output.recovery',\n",
       " 'final.output.tail_ag',\n",
       " 'final.output.tail_pb',\n",
       " 'final.output.tail_sol',\n",
       " 'final.output.tail_au',\n",
       " 'primary_cleaner.output.concentrate_ag',\n",
       " 'primary_cleaner.output.concentrate_pb',\n",
       " 'primary_cleaner.output.concentrate_sol',\n",
       " 'primary_cleaner.output.concentrate_au',\n",
       " 'primary_cleaner.output.tail_ag',\n",
       " 'primary_cleaner.output.tail_pb',\n",
       " 'primary_cleaner.output.tail_sol',\n",
       " 'primary_cleaner.output.tail_au',\n",
       " 'rougher.calculation.sulfate_to_au_concentrate',\n",
       " 'rougher.calculation.floatbank10_sulfate_to_au_feed',\n",
       " 'rougher.calculation.floatbank11_sulfate_to_au_feed',\n",
       " 'rougher.calculation.au_pb_ratio',\n",
       " 'rougher.output.concentrate_ag',\n",
       " 'rougher.output.concentrate_pb',\n",
       " 'rougher.output.concentrate_sol',\n",
       " 'rougher.output.concentrate_au',\n",
       " 'rougher.output.recovery',\n",
       " 'rougher.output.tail_ag',\n",
       " 'rougher.output.tail_pb',\n",
       " 'rougher.output.tail_sol',\n",
       " 'rougher.output.tail_au',\n",
       " 'secondary_cleaner.output.tail_ag',\n",
       " 'secondary_cleaner.output.tail_pb',\n",
       " 'secondary_cleaner.output.tail_sol',\n",
       " 'secondary_cleaner.output.tail_au']"
      ]
     },
     "execution_count": 9,
     "metadata": {},
     "output_type": "execute_result"
    }
   ],
   "source": [
    "unavailable = [i for i in data_train.columns if i not in data_test.columns]\n",
    "unavailable"
   ]
  },
  {
   "cell_type": "markdown",
   "metadata": {},
   "source": [
    "В тестовой выборке  отсутствуют этапы, на которых были получены параметры продукта из сырья. Тестовая выборка содержит в себе исходные столбцы,  то есть до начала обогащения. Нам следует удалить с обучающей выборки все , чего нет в тестовой."
   ]
  },
  {
   "cell_type": "markdown",
   "metadata": {},
   "source": [
    "# Предобработка данных"
   ]
  },
  {
   "cell_type": "code",
   "execution_count": 10,
   "metadata": {},
   "outputs": [],
   "source": [
    "dfs = [data_train, data_test, data_full]"
   ]
  },
  {
   "cell_type": "code",
   "execution_count": 11,
   "metadata": {},
   "outputs": [
    {
     "name": "stdout",
     "output_type": "stream",
     "text": [
      "_____\n",
      "Размер: (14149, 87)\n",
      "Пропуски: 4100\n",
      "Дубликаты: 0\n",
      "_____\n",
      "Размер: (5290, 53)\n",
      "Пропуски: 90\n",
      "Дубликаты: 0\n",
      "_____\n",
      "Размер: (19439, 87)\n",
      "Пропуски: 4481\n",
      "Дубликаты: 0\n"
     ]
    }
   ],
   "source": [
    "for df in dfs:\n",
    "    print('_____')\n",
    "    print('Размер:', df.shape)\n",
    "    print('Пропуски:', df.isna().sum().sum())\n",
    "    print('Дубликаты:', df.duplicated().sum())\n",
    "    "
   ]
  },
  {
   "cell_type": "code",
   "execution_count": 12,
   "metadata": {},
   "outputs": [],
   "source": [
    "#data_train.set_index('date', inplace=True)\n",
    "#data_test.set_index('date', inplace=True)\n",
    "#data_full.set_index('date', inplace=True)"
   ]
  },
  {
   "cell_type": "markdown",
   "metadata": {},
   "source": [
    "Заполним пропущенные значения значением из предыдущей строки"
   ]
  },
  {
   "cell_type": "code",
   "execution_count": 13,
   "metadata": {},
   "outputs": [],
   "source": [
    "for df in dfs:\n",
    "    df.fillna(method='ffill', inplace=True)"
   ]
  },
  {
   "cell_type": "code",
   "execution_count": 14,
   "metadata": {},
   "outputs": [
    {
     "name": "stdout",
     "output_type": "stream",
     "text": [
      "_____\n",
      "Размер: (14149, 87)\n",
      "Пропуски: 0\n",
      "Дубликаты: 0\n",
      "_____\n",
      "Размер: (5290, 53)\n",
      "Пропуски: 0\n",
      "Дубликаты: 0\n",
      "_____\n",
      "Размер: (19439, 87)\n",
      "Пропуски: 0\n",
      "Дубликаты: 0\n"
     ]
    }
   ],
   "source": [
    "for df in dfs:\n",
    "    print('_____')\n",
    "    print('Размер:', df.shape)\n",
    "    print('Пропуски:', df.isna().sum().sum())\n",
    "    print('Дубликаты:', df.duplicated().sum())"
   ]
  },
  {
   "cell_type": "markdown",
   "metadata": {},
   "source": [
    "**Вывод**:\n",
    "- Изучили данные , проверили на наличие пропусков и дубликатов\n",
    "- Заполнили пропуски значением в прошлой или следующей строке."
   ]
  },
  {
   "cell_type": "markdown",
   "metadata": {},
   "source": [
    "## Анализ данных"
   ]
  },
  {
   "cell_type": "markdown",
   "metadata": {},
   "source": [
    "# Изменение концентрации металлов (Au, Ag, Pb) на различных этапах очистки."
   ]
  },
  {
   "cell_type": "code",
   "execution_count": 15,
   "metadata": {},
   "outputs": [],
   "source": [
    "AU = data_full[['rougher.input.feed_au', 'rougher.output.concentrate_au', 'primary_cleaner.output.concentrate_au', \n",
    "            'final.output.concentrate_au']].dropna()\n",
    "AG = data_full[['rougher.input.feed_ag', 'rougher.output.concentrate_ag', 'primary_cleaner.output.concentrate_ag', \n",
    "            'final.output.concentrate_ag']].dropna()\n",
    "PB = data_full[['rougher.input.feed_pb', 'rougher.output.concentrate_pb', 'primary_cleaner.output.concentrate_pb', \n",
    "            'final.output.concentrate_pb']].dropna()"
   ]
  },
  {
   "cell_type": "code",
   "execution_count": 16,
   "metadata": {},
   "outputs": [
    {
     "name": "stdout",
     "output_type": "stream",
     "text": [
      "Концентрация до флотации:\n",
      "Золото: 8.125838836648287 Серебро: 8.593574167368724 Свинец: 3.5282347219520145\n"
     ]
    }
   ],
   "source": [
    "print('Концентрация до флотации:')\n",
    "print('Золото:',AU['rougher.input.feed_au'].median(),'Серебро:',\n",
    "AG['rougher.input.feed_ag'].median(),'Свинец:',\n",
    "PB['rougher.input.feed_pb'].median())"
   ]
  },
  {
   "cell_type": "code",
   "execution_count": 17,
   "metadata": {},
   "outputs": [
    {
     "name": "stdout",
     "output_type": "stream",
     "text": [
      "Концентрация после флотации:\n",
      "Золото: 20.280214025891475 Серебро: 12.098114967346191 Свинец: 7.742580079502529\n"
     ]
    }
   ],
   "source": [
    "print('Концентрация после флотации:')\n",
    "print('Золото:', AU['rougher.output.concentrate_au'].median(),'Серебро:',\n",
    "AG['rougher.output.concentrate_ag'].median(),'Свинец:',\n",
    "PB['rougher.output.concentrate_pb'].median())"
   ]
  },
  {
   "cell_type": "code",
   "execution_count": 18,
   "metadata": {},
   "outputs": [
    {
     "name": "stdout",
     "output_type": "stream",
     "text": [
      "Концентрация после первичной очистки:\n",
      "Золото: 32.841295480233306 Серебро: 8.507297972365805 Свинец: 10.142270415359071\n"
     ]
    }
   ],
   "source": [
    "print('Концентрация после первичной очистки:')\n",
    "print('Золото:', AU['primary_cleaner.output.concentrate_au'].median(),'Серебро:',\n",
    "AG['primary_cleaner.output.concentrate_ag'].median(),'Свинец:',\n",
    "PB['primary_cleaner.output.concentrate_pb'].median())"
   ]
  },
  {
   "cell_type": "code",
   "execution_count": 19,
   "metadata": {},
   "outputs": [
    {
     "name": "stdout",
     "output_type": "stream",
     "text": [
      "Финальный концентрат:\n",
      "Золото: 45.01124391455689 Серебро: 5.066039118467836 Свинец: 10.10226350598865\n"
     ]
    }
   ],
   "source": [
    "print('Финальный концентрат:')\n",
    "print('Золото:', AU['final.output.concentrate_au'].median(),'Серебро:',\n",
    "AG['final.output.concentrate_ag'].median(),'Свинец:',\n",
    "PB['final.output.concentrate_pb'].median())"
   ]
  },
  {
   "cell_type": "code",
   "execution_count": 20,
   "metadata": {},
   "outputs": [
    {
     "data": {
      "image/png": "[encoded data removed]",
      "text/plain": [
       "<Figure size 360x360 with 1 Axes>"
      ]
     },
     "metadata": {
      "needs_background": "light"
     },
     "output_type": "display_data"
    }
   ],
   "source": [
    "sns.displot(AU, legend=False, kind='kde')\n",
    "plt.legend(['Сырье', 'после флотации', 'первичная очистка', 'Финальный концентрат'], fontsize=8)\n",
    "plt.title('Концентрация металлов (Au, Ag, Pb) на различных этапах очистки')\n",
    "plt.show()"
   ]
  },
  {
   "cell_type": "code",
   "execution_count": 21,
   "metadata": {},
   "outputs": [
    {
     "data": {
      "image/png": "[encoded data removed]",
      "text/plain": [
       "<Figure size 360x360 with 1 Axes>"
      ]
     },
     "metadata": {
      "needs_background": "light"
     },
     "output_type": "display_data"
    }
   ],
   "source": [
    "sns.displot(AG, legend=False, kind='kde')\n",
    "plt.legend(['Сырье', 'после флотации', 'первичная очистка', 'Финальный концентрат'], fontsize=8)\n",
    "plt.title('Концентрация металлов (Au, Ag, Pb) на различных этапах очистки')\n",
    "plt.show()"
   ]
  },
  {
   "cell_type": "code",
   "execution_count": 22,
   "metadata": {},
   "outputs": [
    {
     "data": {
      "image/png": "[encoded data removed]",
      "text/plain": [
       "<Figure size 360x360 with 1 Axes>"
      ]
     },
     "metadata": {
      "needs_background": "light"
     },
     "output_type": "display_data"
    }
   ],
   "source": [
    "sns.displot(PB, legend=False, kind='kde')\n",
    "plt.legend(['Сырье', 'после флотации', 'первичная очистка', 'Финальный концентрат'], fontsize=8)\n",
    "plt.title('Концентрация металлов (Au, Ag, Pb) на различных этапах очистки')\n",
    "plt.show()"
   ]
  },
  {
   "cell_type": "markdown",
   "metadata": {},
   "source": [
    "С каждым этапом очистки концетрация золота сильно увеличивается, а серебро наоборот уменьшается. Свинец показывает небольшое увелечение концентрации."
   ]
  },
  {
   "cell_type": "markdown",
   "metadata": {},
   "source": [
    "# Сравнение распределения размеров гранул сырья на обучающей и тестовой выборках."
   ]
  },
  {
   "cell_type": "code",
   "execution_count": 23,
   "metadata": {},
   "outputs": [
    {
     "data": {
      "image/png": "[encoded data removed]",
      "text/plain": [
       "<Figure size 1080x720 with 1 Axes>"
      ]
     },
     "metadata": {
      "needs_background": "light"
     },
     "output_type": "display_data"
    }
   ],
   "source": [
    "data_test['rougher.input.feed_size'].hist(figsize=(15, 10), bins=60, alpha=1, density=True)\n",
    "data_train['rougher.input.feed_size'].hist(figsize=(15, 10), bins=60, alpha=0.5, density=True)\n",
    "plt.legend(['Тестовая выборка', 'Обучающая выборка'])\n",
    "plt.title('Распределения размеров гранул сырья')\n",
    "plt.xlabel('Размер')\n",
    "plt.ylabel('Соотношение')\n",
    "plt.show()"
   ]
  },
  {
   "cell_type": "markdown",
   "metadata": {},
   "source": [
    "Распределение не сильно разнятся, оценка модели будет правлиьной."
   ]
  },
  {
   "cell_type": "markdown",
   "metadata": {},
   "source": [
    "# Исследование суммарной концентрации всех веществ на разных стадиях: в сырье, в черновом и финальном концентратах. \n"
   ]
  },
  {
   "cell_type": "code",
   "execution_count": 24,
   "metadata": {},
   "outputs": [],
   "source": [
    "concentrate = data_full['rougher.input.feed_ag'] + data_full['rougher.input.feed_pb'] + data_full['rougher.input.feed_sol'] +\\\n",
    "  data_full['rougher.input.feed_au']\n",
    "\n",
    "rougher_concentrate = data_full['rougher.output.concentrate_ag'] + data_full['rougher.output.concentrate_pb'] +\\\n",
    "    data_full['rougher.output.concentrate_sol'] + data_full['rougher.output.concentrate_au']\n",
    "\n",
    "final_concentrate = data_full['final.output.concentrate_ag'] + data_full['final.output.concentrate_pb'] +\\\n",
    "    data_full['final.output.concentrate_sol'] + data_full['final.output.concentrate_au']"
   ]
  },
  {
   "cell_type": "code",
   "execution_count": 25,
   "metadata": {},
   "outputs": [
    {
     "data": {
      "image/png": "[encoded data removed]",
      "text/plain": [
       "<Figure size 1440x720 with 1 Axes>"
      ]
     },
     "metadata": {
      "needs_background": "light"
     },
     "output_type": "display_data"
    }
   ],
   "source": [
    "concentrate.hist(figsize=(12, 7), bins=50, alpha=1, density=True)\n",
    "rougher_concentrate.hist(figsize=(20, 10), bins=70, alpha=0.5, density=True)\n",
    "final_concentrate.hist(figsize=(20, 10), bins=70, alpha=0.5, density=True)\n",
    "plt.legend(['Сырьё', 'Черновой концентрат', 'Финальный концентрат'])\n",
    "plt.title('Суммарная концентрация всех веществ на разных стадиях')\n",
    "plt.xlabel('Концентрация')\n",
    "plt.ylabel('Соотношение')\n",
    "plt.show()"
   ]
  },
  {
   "cell_type": "markdown",
   "metadata": {},
   "source": [
    "Удалим строки с пустыми значениями."
   ]
  },
  {
   "cell_type": "code",
   "execution_count": 26,
   "metadata": {},
   "outputs": [],
   "source": [
    "data_train = data_train.query ('@rougher_concentrate !=0')"
   ]
  },
  {
   "cell_type": "code",
   "execution_count": 27,
   "metadata": {},
   "outputs": [],
   "source": [
    "data_train = data_train.query('@final_concentrate !=0')"
   ]
  },
  {
   "cell_type": "code",
   "execution_count": 28,
   "metadata": {},
   "outputs": [],
   "source": [
    "data_full = data_full.query('@rougher_concentrate !=0')"
   ]
  },
  {
   "cell_type": "code",
   "execution_count": 29,
   "metadata": {},
   "outputs": [],
   "source": [
    "data_full = data_full.query('@final_concentrate !=0')"
   ]
  },
  {
   "cell_type": "code",
   "execution_count": 30,
   "metadata": {},
   "outputs": [],
   "source": [
    "data_test = data_test.query('@rougher_concentrate !=0')"
   ]
  },
  {
   "cell_type": "code",
   "execution_count": 31,
   "metadata": {},
   "outputs": [],
   "source": [
    "data_test = data_test.query('@final_concentrate !=0')"
   ]
  },
  {
   "cell_type": "markdown",
   "metadata": {},
   "source": [
    "# Вывод\n",
    "- Концентрация золота постепенно увеличивается с каждой очисткой\n",
    "- Концентрация свинца увеличивается, как и концентрация золота , но не таким темпом\n",
    "- Концентрация серебра уменьшается\n",
    "- Распределение не сильно разнятся, оценка модели будет правлиьной.\n",
    "- Строки с пустым значением концетрации удалены"
   ]
  },
  {
   "cell_type": "markdown",
   "metadata": {},
   "source": [
    "## Модель"
   ]
  },
  {
   "cell_type": "markdown",
   "metadata": {},
   "source": [
    "# Функция для вычисления итоговой sMAPE."
   ]
  },
  {
   "cell_type": "code",
   "execution_count": 32,
   "metadata": {},
   "outputs": [],
   "source": [
    "def smape(target_actual, target_predictions):\n",
    " \n",
    "    error = 1 / len(target_actual) * np.sum(np.abs(target_actual - target_predictions) / ((np.abs(target_actual) + np.abs(target_predictions)) / 2)) * 100 \n",
    "    return error"
   ]
  },
  {
   "cell_type": "code",
   "execution_count": 33,
   "metadata": {},
   "outputs": [],
   "source": [
    "def final_smape(target_actual, target_predictions):\n",
    "    target_actual_rougher = target_actual['rougher.output.recovery']\n",
    "    target_actual_final = target_actual['final.output.recovery']\n",
    "    \n",
    "    target_predictions_rougher = target_predictions[:, 0]\n",
    "    target_predictions_final = target_predictions[:, 1]\n",
    "    \n",
    "    return 0.25 * smape(target_actual_rougher, target_predictions_rougher) \\\n",
    "        + 0.75 * smape(target_actual_final, target_predictions_final)"
   ]
  },
  {
   "cell_type": "code",
   "execution_count": 34,
   "metadata": {},
   "outputs": [],
   "source": [
    "smape_scorer = make_scorer(final_smape, greater_is_better=False)"
   ]
  },
  {
   "cell_type": "markdown",
   "metadata": {},
   "source": [
    "# Обучение разных моделей и оценка их качества кросс-валидацией. "
   ]
  },
  {
   "cell_type": "code",
   "execution_count": 35,
   "metadata": {},
   "outputs": [],
   "source": [
    "data_test = data_test.merge(data_full[['date', 'rougher.output.recovery', 'final.output.recovery']], on = 'date', how = 'left')"
   ]
  },
  {
   "cell_type": "code",
   "execution_count": 36,
   "metadata": {},
   "outputs": [],
   "source": [
    "test_features = data_test.drop(['date', 'rougher.output.recovery', 'final.output.recovery'], axis = 1)\n",
    "test_target = data_test[['rougher.output.recovery', 'final.output.recovery']]"
   ]
  },
  {
   "cell_type": "code",
   "execution_count": 37,
   "metadata": {},
   "outputs": [],
   "source": [
    "data_train = data_train.drop('date', axis =1)\n",
    "train_features = data_train.drop(unavailable, axis = 1)\n",
    "train_target = data_train[['rougher.output.recovery', 'final.output.recovery']]"
   ]
  },
  {
   "cell_type": "code",
   "execution_count": 38,
   "metadata": {},
   "outputs": [
    {
     "name": "stdout",
     "output_type": "stream",
     "text": [
      "Mean R2 from CV of LinearRegression = -0.4303203665910288\n",
      "Mean sMAPE from CV of LinearRegression = -12.171356408153265\n",
      "Результат модели: 0.2807968743843136\n",
      "      rougher.output.recovery  final.output.recovery      rough      final\n",
      "0                   89.993421              70.273583  91.292692  73.630929\n",
      "1                   88.089657              68.910432  92.513780  74.040162\n",
      "2                   88.412756              68.143213  92.519447  74.158932\n",
      "3                   87.360133              67.776393  92.388055  74.473848\n",
      "4                   83.236367              61.467078  93.023903  72.659630\n",
      "...                       ...                    ...        ...        ...\n",
      "5168                95.172585              68.919891  88.768507  73.876074\n",
      "5169                94.575036              68.440582  87.023731  76.655549\n",
      "5170                93.018138              67.092759  86.021688  75.730192\n",
      "5171                92.599042              68.061186  87.942460  73.392976\n",
      "5172                91.177695              71.699976  87.292244  74.486835\n",
      "\n",
      "[5173 rows x 4 columns]\n",
      "CPU times: user 1.67 s, sys: 2.13 s, total: 3.79 s\n",
      "Wall time: 3.76 s\n"
     ]
    }
   ],
   "source": [
    "%%time\n",
    "\n",
    "model = LinearRegression()\n",
    "model.fit(train_features, train_target)\n",
    "predictions_lr = model.predict(test_features)\n",
    "print('Mean R2 from CV of LinearRegression =', cross_val_score(model, train_features, train_target, cv=5).mean())\n",
    "print('Mean sMAPE from CV of LinearRegression =', cross_val_score(model, train_features, train_target, cv=5, scoring = smape_scorer).mean())\n",
    "print('Результат модели:', model.score(train_features, train_target))\n",
    "lr_pred = pd.DataFrame(predictions_lr, columns = ['rough', 'final']) \n",
    "print(pd.concat([test_target.reset_index(drop=True), lr_pred], axis = 1))"
   ]
  },
  {
   "cell_type": "markdown",
   "metadata": {},
   "source": [
    "Случайный лес"
   ]
  },
  {
   "cell_type": "code",
   "execution_count": 39,
   "metadata": {},
   "outputs": [],
   "source": [
    "rfr = RandomForestRegressor(random_state = 12345)"
   ]
  },
  {
   "cell_type": "code",
   "execution_count": 40,
   "metadata": {},
   "outputs": [],
   "source": [
    "gip_param =  {'n_estimators' : [10,20,30],\n",
    "              'max_depth' : [2,4,6]\n",
    "              }"
   ]
  },
  {
   "cell_type": "code",
   "execution_count": 41,
   "metadata": {},
   "outputs": [
    {
     "data": {
      "text/plain": [
       "GridSearchCV(cv=5, estimator=RandomForestRegressor(random_state=12345),\n",
       "             param_grid={'max_depth': [2, 4, 6], 'n_estimators': [10, 20, 30]},\n",
       "             scoring=make_scorer(final_smape, greater_is_better=False))"
      ]
     },
     "execution_count": 41,
     "metadata": {},
     "output_type": "execute_result"
    }
   ],
   "source": [
    "giper = GridSearchCV(estimator = rfr, param_grid = gip_param, cv = 5, scoring = smape_scorer)\n",
    "giper.fit(train_features, train_target)"
   ]
  },
  {
   "cell_type": "code",
   "execution_count": 42,
   "metadata": {},
   "outputs": [
    {
     "data": {
      "text/plain": [
       "RandomForestRegressor(max_depth=4, n_estimators=30, random_state=12345)"
      ]
     },
     "execution_count": 42,
     "metadata": {},
     "output_type": "execute_result"
    }
   ],
   "source": [
    "giper.best_estimator_"
   ]
  },
  {
   "cell_type": "code",
   "execution_count": 43,
   "metadata": {},
   "outputs": [
    {
     "name": "stdout",
     "output_type": "stream",
     "text": [
      "Mean R2 from CV of RandomForestRegressor = -0.05236149500190366\n",
      "Mean sMAPE from CV of RandomForestRegressor = -10.39547611875366\n",
      "Результат модели: 0.37702130267021955\n",
      "      rougher.output.recovery  final.output.recovery      rough      final\n",
      "0                   89.993421              70.273583  86.618213  69.452620\n",
      "1                   88.089657              68.910432  86.618213  69.452620\n",
      "2                   88.412756              68.143213  86.618213  69.452620\n",
      "3                   87.360133              67.776393  86.618213  69.452620\n",
      "4                   83.236367              61.467078  86.618213  69.452620\n",
      "...                       ...                    ...        ...        ...\n",
      "5168                95.172585              68.919891  86.792102  69.565562\n",
      "5169                94.575036              68.440582  87.396905  69.866152\n",
      "5170                93.018138              67.092759  87.771567  70.097826\n",
      "5171                92.599042              68.061186  87.771567  70.097826\n",
      "5172                91.177695              71.699976  87.771567  70.097826\n",
      "\n",
      "[5173 rows x 4 columns]\n",
      "CPU times: user 49.6 s, sys: 107 ms, total: 49.7 s\n",
      "Wall time: 51.4 s\n"
     ]
    }
   ],
   "source": [
    "%%time\n",
    "\n",
    "model = RandomForestRegressor(n_estimators = 30, max_depth = 4)\n",
    "model.fit(train_features, train_target)\n",
    "predictions_rf = model.predict(test_features)\n",
    "print('Mean R2 from CV of RandomForestRegressor =', cross_val_score(model, train_features, train_target, cv=5).mean())\n",
    "print('Mean sMAPE from CV of RandomForestRegressor =', cross_val_score(model, train_features, train_target, cv=5, scoring = smape_scorer).mean())\n",
    "print('Результат модели:', model.score(train_features, train_target))\n",
    "rf_pred = pd.DataFrame(predictions_rf, columns = ['rough', 'final']) \n",
    "print(pd.concat([test_target.reset_index(drop=True), rf_pred], axis = 1))"
   ]
  },
  {
   "cell_type": "markdown",
   "metadata": {},
   "source": [
    "Решающее дерево"
   ]
  },
  {
   "cell_type": "code",
   "execution_count": 44,
   "metadata": {},
   "outputs": [],
   "source": [
    "dtr = DecisionTreeRegressor(random_state = 12345)"
   ]
  },
  {
   "cell_type": "code",
   "execution_count": 45,
   "metadata": {},
   "outputs": [],
   "source": [
    "parameters={\"max_depth\" : [2,4,6],\n",
    "           \"min_samples_leaf\":[1,2,3,4,5],\n",
    "           \"max_leaf_nodes\":[None,10,20,30] }"
   ]
  },
  {
   "cell_type": "code",
   "execution_count": 46,
   "metadata": {},
   "outputs": [],
   "source": [
    "tuning_model=GridSearchCV(dtr,param_grid=parameters, scoring= smape_scorer,cv=5)\n"
   ]
  },
  {
   "cell_type": "code",
   "execution_count": 47,
   "metadata": {},
   "outputs": [
    {
     "data": {
      "text/plain": [
       "GridSearchCV(cv=5, estimator=DecisionTreeRegressor(random_state=12345),\n",
       "             param_grid={'max_depth': [2, 4, 6],\n",
       "                         'max_leaf_nodes': [None, 10, 20, 30],\n",
       "                         'min_samples_leaf': [1, 2, 3, 4, 5]},\n",
       "             scoring=make_scorer(final_smape, greater_is_better=False))"
      ]
     },
     "execution_count": 47,
     "metadata": {},
     "output_type": "execute_result"
    }
   ],
   "source": [
    "tuning_model.fit(train_features, train_target)"
   ]
  },
  {
   "cell_type": "code",
   "execution_count": 48,
   "metadata": {},
   "outputs": [
    {
     "data": {
      "text/plain": [
       "{'max_depth': 4, 'max_leaf_nodes': 10, 'min_samples_leaf': 1}"
      ]
     },
     "execution_count": 48,
     "metadata": {},
     "output_type": "execute_result"
    }
   ],
   "source": [
    "tuning_model.best_params_"
   ]
  },
  {
   "cell_type": "code",
   "execution_count": 49,
   "metadata": {},
   "outputs": [
    {
     "name": "stdout",
     "output_type": "stream",
     "text": [
      "Mean R2 from CV of DecisionTreeRegressor = -0.09294498972555496\n",
      "Mean sMAPE from CV of DecisionTreeRegressor = -10.819405683380937\n",
      "Результат модели: 0.33773323746723316\n",
      "      rougher.output.recovery  final.output.recovery      rough     final\n",
      "0                   89.993421              70.273583  86.544735  69.20794\n",
      "1                   88.089657              68.910432  86.544735  69.20794\n",
      "2                   88.412756              68.143213  86.544735  69.20794\n",
      "3                   87.360133              67.776393  86.544735  69.20794\n",
      "4                   83.236367              61.467078  86.544735  69.20794\n",
      "...                       ...                    ...        ...       ...\n",
      "5168                95.172585              68.919891  86.544735  69.20794\n",
      "5169                94.575036              68.440582  86.544735  69.20794\n",
      "5170                93.018138              67.092759  86.544735  69.20794\n",
      "5171                92.599042              68.061186  86.544735  69.20794\n",
      "5172                91.177695              71.699976  86.544735  69.20794\n",
      "\n",
      "[5173 rows x 4 columns]\n",
      "CPU times: user 2.98 s, sys: 3.82 ms, total: 2.99 s\n",
      "Wall time: 3 s\n"
     ]
    }
   ],
   "source": [
    "%%time\n",
    "\n",
    "model = DecisionTreeRegressor (max_depth = 4, max_leaf_nodes = 20, min_samples_leaf = 1)\n",
    "model.fit(train_features, train_target)\n",
    "predictions_dt = model.predict(test_features)\n",
    "print('Mean R2 from CV of DecisionTreeRegressor =', cross_val_score(model, train_features, train_target, cv=5).mean())\n",
    "print('Mean sMAPE from CV of DecisionTreeRegressor =', cross_val_score(model, train_features, train_target, cv=5, scoring=smape_scorer).mean())\n",
    "print('Результат модели:', model.score(train_features, train_target))\n",
    "dt_pred = pd.DataFrame(predictions_dt, columns = ['rough', 'final']) \n",
    "print(pd.concat([test_target.reset_index(drop=True), dt_pred], axis = 1))"
   ]
  },
  {
   "cell_type": "markdown",
   "metadata": {},
   "source": [
    "Проверим на адекватность"
   ]
  },
  {
   "cell_type": "code",
   "execution_count": 50,
   "metadata": {},
   "outputs": [
    {
     "name": "stdout",
     "output_type": "stream",
     "text": [
      "dummy sMAPE: 8.033678765182529\n"
     ]
    }
   ],
   "source": [
    "dummy_regr = DummyRegressor(strategy=\"mean\")\n",
    "dummy_regr.fit(train_features, train_target)\n",
    "dummy_pred = dummy_regr.predict(test_features)\n",
    "print('dummy sMAPE:', final_smape(test_target, dummy_pred))"
   ]
  },
  {
   "cell_type": "code",
   "execution_count": 55,
   "metadata": {},
   "outputs": [
    {
     "name": "stdout",
     "output_type": "stream",
     "text": [
      "Итоговый sMAPE на тестовой выборке: 6.8859841115396625\n",
      "CPU times: user 5.87 s, sys: 19.6 ms, total: 5.89 s\n",
      "Wall time: 5.89 s\n"
     ]
    }
   ],
   "source": [
    "%%time\n",
    "\n",
    "model = RandomForestRegressor(n_estimators = 30, max_depth = 4)\n",
    "model.fit(train_features, train_target)\n",
    "predicted = model.predict(test_features)\n",
    "smape_test = final_smape(test_target,predicted)\n",
    "print('Итоговый sMAPE на тестовой выборке:', smape_test)"
   ]
  },
  {
   "cell_type": "markdown",
   "metadata": {},
   "source": [
    "## Вывод:\n",
    "- Импортировали библиотеки и данные\n",
    "- Рассчитали эффективность обогащения , Показетль MAE мал ,  модель соответствует набору данных.\n",
    "- Произвели предобработку данных, заменили пропуски на предыдущие и следущие значения\n",
    "- Проанализировали изменение концентрации металлов на разных этапах очистки.С каждым этапом очистки концетрация золота сильно увеличивается\n",
    "- Сравнили распределение  размеров гранул сырья на обучающей и тестовой выборках. Данные не сильно разнятся.\n",
    "- Удалили строки с пустыми значениями.\n",
    "- Объявили функцию для вычисления итоговой метрики sMAPE\n",
    "- Проведено исследование разных моделей машинного обучения с различными гиперпараметрами\n",
    "- Была выявлена лучшая модель\n",
    "- Для данной задачи лучше всего подходит RandomForestRegressor"
   ]
  }
 ],
 "metadata": {
  "ExecuteTimeLog": [
   {
    "duration": 46,
    "start_time": "2023-02-13T17:49:38.246Z"
   },
   {
    "duration": 1557,
    "start_time": "2023-02-13T17:49:41.997Z"
   },
   {
    "duration": 1975,
    "start_time": "2023-02-13T17:49:43.556Z"
   },
   {
    "duration": 20,
    "start_time": "2023-02-13T17:53:22.262Z"
   },
   {
    "duration": 13,
    "start_time": "2023-02-13T17:53:57.023Z"
   },
   {
    "duration": 20,
    "start_time": "2023-02-13T17:54:17.132Z"
   },
   {
    "duration": 15,
    "start_time": "2023-02-13T20:43:47.434Z"
   },
   {
    "duration": 3,
    "start_time": "2023-02-13T20:45:36.719Z"
   },
   {
    "duration": 5,
    "start_time": "2023-02-13T20:45:51.802Z"
   },
   {
    "duration": 3,
    "start_time": "2023-02-13T20:48:32.699Z"
   },
   {
    "duration": 3,
    "start_time": "2023-02-13T20:49:16.145Z"
   },
   {
    "duration": 71,
    "start_time": "2023-02-13T20:49:16.487Z"
   },
   {
    "duration": 3,
    "start_time": "2023-02-13T20:49:40.447Z"
   },
   {
    "duration": 10,
    "start_time": "2023-02-13T20:49:40.788Z"
   },
   {
    "duration": 9,
    "start_time": "2023-02-13T20:49:55.888Z"
   },
   {
    "duration": 4,
    "start_time": "2023-02-13T20:49:57.590Z"
   },
   {
    "duration": 9,
    "start_time": "2023-02-13T20:49:57.842Z"
   },
   {
    "duration": 3,
    "start_time": "2023-02-13T20:51:10.598Z"
   },
   {
    "duration": 8,
    "start_time": "2023-02-13T20:51:10.922Z"
   },
   {
    "duration": 1400,
    "start_time": "2023-02-13T20:51:17.316Z"
   },
   {
    "duration": 621,
    "start_time": "2023-02-13T20:51:18.717Z"
   },
   {
    "duration": 17,
    "start_time": "2023-02-13T20:51:19.340Z"
   },
   {
    "duration": 12,
    "start_time": "2023-02-13T20:51:19.359Z"
   },
   {
    "duration": 31,
    "start_time": "2023-02-13T20:51:19.373Z"
   },
   {
    "duration": 15,
    "start_time": "2023-02-13T20:51:19.406Z"
   },
   {
    "duration": 3,
    "start_time": "2023-02-13T20:51:19.423Z"
   },
   {
    "duration": 135,
    "start_time": "2023-02-13T20:51:19.428Z"
   },
   {
    "duration": 9,
    "start_time": "2023-02-13T20:52:31.086Z"
   },
   {
    "duration": 3,
    "start_time": "2023-02-13T20:52:44.389Z"
   },
   {
    "duration": 5,
    "start_time": "2023-02-13T20:52:44.835Z"
   },
   {
    "duration": 10,
    "start_time": "2023-02-13T20:52:49.556Z"
   },
   {
    "duration": 7,
    "start_time": "2023-02-13T20:52:54.957Z"
   },
   {
    "duration": 5,
    "start_time": "2023-02-13T20:53:15.745Z"
   },
   {
    "duration": 4,
    "start_time": "2023-02-13T20:54:05.260Z"
   },
   {
    "duration": 5,
    "start_time": "2023-02-13T20:58:14.383Z"
   },
   {
    "duration": 8,
    "start_time": "2023-02-13T21:04:55.317Z"
   },
   {
    "duration": 3,
    "start_time": "2023-02-13T21:05:07.284Z"
   },
   {
    "duration": 245,
    "start_time": "2023-02-13T21:09:34.757Z"
   },
   {
    "duration": 10,
    "start_time": "2023-02-13T21:09:56.818Z"
   },
   {
    "duration": 2,
    "start_time": "2023-02-13T21:10:05.910Z"
   },
   {
    "duration": 240,
    "start_time": "2023-02-13T21:10:06.303Z"
   },
   {
    "duration": 14,
    "start_time": "2023-02-13T21:23:27.793Z"
   },
   {
    "duration": 4,
    "start_time": "2023-02-13T21:23:28.213Z"
   },
   {
    "duration": 10,
    "start_time": "2023-02-13T21:23:28.536Z"
   },
   {
    "duration": 5,
    "start_time": "2023-02-13T21:23:44.382Z"
   },
   {
    "duration": 6,
    "start_time": "2023-02-13T21:23:54.932Z"
   },
   {
    "duration": 10,
    "start_time": "2023-02-13T21:24:12.326Z"
   },
   {
    "duration": 10,
    "start_time": "2023-02-13T21:24:15.873Z"
   },
   {
    "duration": 18,
    "start_time": "2023-02-13T21:24:26.551Z"
   },
   {
    "duration": 13,
    "start_time": "2023-02-13T21:24:26.818Z"
   },
   {
    "duration": 3,
    "start_time": "2023-02-13T21:24:38.400Z"
   },
   {
    "duration": 9,
    "start_time": "2023-02-13T21:24:38.884Z"
   },
   {
    "duration": 11,
    "start_time": "2023-02-13T21:24:41.599Z"
   },
   {
    "duration": 2,
    "start_time": "2023-02-13T21:24:55.052Z"
   },
   {
    "duration": 195,
    "start_time": "2023-02-13T21:24:55.391Z"
   },
   {
    "duration": 10,
    "start_time": "2023-02-13T21:26:27.165Z"
   },
   {
    "duration": 13,
    "start_time": "2023-02-13T21:26:33.184Z"
   },
   {
    "duration": 12,
    "start_time": "2023-02-13T21:27:02.097Z"
   },
   {
    "duration": 14,
    "start_time": "2023-02-13T21:27:02.912Z"
   },
   {
    "duration": 1321,
    "start_time": "2023-02-13T21:27:11.416Z"
   },
   {
    "duration": 705,
    "start_time": "2023-02-13T21:27:12.739Z"
   },
   {
    "duration": 18,
    "start_time": "2023-02-13T21:27:13.446Z"
   },
   {
    "duration": 27,
    "start_time": "2023-02-13T21:27:13.466Z"
   },
   {
    "duration": 16,
    "start_time": "2023-02-13T21:27:13.496Z"
   },
   {
    "duration": 2,
    "start_time": "2023-02-13T21:27:13.514Z"
   },
   {
    "duration": 7,
    "start_time": "2023-02-13T21:27:13.518Z"
   },
   {
    "duration": 4,
    "start_time": "2023-02-13T21:27:13.527Z"
   },
   {
    "duration": 9,
    "start_time": "2023-02-13T21:27:13.533Z"
   },
   {
    "duration": 7,
    "start_time": "2023-02-13T21:27:13.543Z"
   },
   {
    "duration": 275,
    "start_time": "2023-02-13T21:27:13.551Z"
   },
   {
    "duration": 10,
    "start_time": "2023-02-13T21:27:13.827Z"
   },
   {
    "duration": 3,
    "start_time": "2023-02-13T21:27:13.839Z"
   },
   {
    "duration": 8,
    "start_time": "2023-02-13T21:27:13.844Z"
   },
   {
    "duration": 103,
    "start_time": "2023-02-13T21:28:22.515Z"
   },
   {
    "duration": 1412,
    "start_time": "2023-02-13T21:28:54.963Z"
   },
   {
    "duration": 716,
    "start_time": "2023-02-13T21:28:56.378Z"
   },
   {
    "duration": 19,
    "start_time": "2023-02-13T21:28:57.096Z"
   },
   {
    "duration": 11,
    "start_time": "2023-02-13T21:28:57.117Z"
   },
   {
    "duration": 24,
    "start_time": "2023-02-13T21:28:57.131Z"
   },
   {
    "duration": 3,
    "start_time": "2023-02-13T21:28:57.157Z"
   },
   {
    "duration": 14,
    "start_time": "2023-02-13T21:28:57.161Z"
   },
   {
    "duration": 18,
    "start_time": "2023-02-13T21:28:57.177Z"
   },
   {
    "duration": 14,
    "start_time": "2023-02-13T21:28:57.197Z"
   },
   {
    "duration": 18,
    "start_time": "2023-02-13T21:28:57.213Z"
   },
   {
    "duration": 237,
    "start_time": "2023-02-13T21:28:57.233Z"
   },
   {
    "duration": 21,
    "start_time": "2023-02-13T21:28:57.472Z"
   },
   {
    "duration": 3,
    "start_time": "2023-02-13T21:28:57.495Z"
   },
   {
    "duration": 15,
    "start_time": "2023-02-13T21:28:57.501Z"
   },
   {
    "duration": 32,
    "start_time": "2023-02-13T21:28:57.517Z"
   },
   {
    "duration": 15,
    "start_time": "2023-02-13T21:29:08.793Z"
   },
   {
    "duration": 201,
    "start_time": "2023-02-13T21:29:56.264Z"
   },
   {
    "duration": 10,
    "start_time": "2023-02-13T22:09:34.465Z"
   },
   {
    "duration": 11,
    "start_time": "2023-02-13T22:09:59.283Z"
   },
   {
    "duration": 1169,
    "start_time": "2023-02-13T22:11:55.948Z"
   },
   {
    "duration": 161,
    "start_time": "2023-02-13T22:12:26.940Z"
   },
   {
    "duration": 798,
    "start_time": "2023-02-13T22:12:42.357Z"
   },
   {
    "duration": 62,
    "start_time": "2023-02-13T22:12:56.524Z"
   },
   {
    "duration": 814,
    "start_time": "2023-02-13T22:13:02.583Z"
   },
   {
    "duration": 1160,
    "start_time": "2023-02-13T22:13:09.755Z"
   },
   {
    "duration": 1208,
    "start_time": "2023-02-13T22:14:51.326Z"
   },
   {
    "duration": 1341,
    "start_time": "2023-02-13T22:15:03.983Z"
   },
   {
    "duration": 1292,
    "start_time": "2023-02-13T22:15:17.453Z"
   },
   {
    "duration": 1217,
    "start_time": "2023-02-13T22:17:35.609Z"
   },
   {
    "duration": 1279,
    "start_time": "2023-02-13T22:17:38.724Z"
   },
   {
    "duration": 1217,
    "start_time": "2023-02-13T22:17:45.200Z"
   },
   {
    "duration": 1252,
    "start_time": "2023-02-13T22:18:01.573Z"
   },
   {
    "duration": 1189,
    "start_time": "2023-02-13T22:18:18.224Z"
   },
   {
    "duration": 664,
    "start_time": "2023-02-13T22:23:57.362Z"
   },
   {
    "duration": 680,
    "start_time": "2023-02-13T22:24:20.686Z"
   },
   {
    "duration": 6,
    "start_time": "2023-02-13T22:24:34.274Z"
   },
   {
    "duration": 44,
    "start_time": "2023-02-13T22:25:41.728Z"
   },
   {
    "duration": 6,
    "start_time": "2023-02-13T22:25:48.482Z"
   },
   {
    "duration": 44,
    "start_time": "2023-02-13T22:27:59.451Z"
   },
   {
    "duration": 7,
    "start_time": "2023-02-13T22:28:08.433Z"
   },
   {
    "duration": 6,
    "start_time": "2023-02-13T22:29:46.012Z"
   },
   {
    "duration": 8,
    "start_time": "2023-02-13T22:32:02.050Z"
   },
   {
    "duration": 421,
    "start_time": "2023-02-13T23:37:58.817Z"
   },
   {
    "duration": 322,
    "start_time": "2023-02-13T23:39:06.227Z"
   },
   {
    "duration": 325,
    "start_time": "2023-02-13T23:39:22.538Z"
   },
   {
    "duration": 348,
    "start_time": "2023-02-13T23:39:36.555Z"
   },
   {
    "duration": 324,
    "start_time": "2023-02-13T23:40:36.549Z"
   },
   {
    "duration": 5,
    "start_time": "2023-02-13T23:51:36.955Z"
   },
   {
    "duration": 1301,
    "start_time": "2023-02-14T00:00:59.732Z"
   },
   {
    "duration": 694,
    "start_time": "2023-02-14T00:01:01.035Z"
   },
   {
    "duration": 18,
    "start_time": "2023-02-14T00:01:01.730Z"
   },
   {
    "duration": 21,
    "start_time": "2023-02-14T00:01:01.750Z"
   },
   {
    "duration": 24,
    "start_time": "2023-02-14T00:01:01.773Z"
   },
   {
    "duration": 2,
    "start_time": "2023-02-14T00:01:01.799Z"
   },
   {
    "duration": 30,
    "start_time": "2023-02-14T00:01:01.803Z"
   },
   {
    "duration": 16,
    "start_time": "2023-02-14T00:01:01.835Z"
   },
   {
    "duration": 24,
    "start_time": "2023-02-14T00:01:01.853Z"
   },
   {
    "duration": 9,
    "start_time": "2023-02-14T00:01:01.879Z"
   },
   {
    "duration": 243,
    "start_time": "2023-02-14T00:01:01.890Z"
   },
   {
    "duration": 10,
    "start_time": "2023-02-14T00:01:02.135Z"
   },
   {
    "duration": 26,
    "start_time": "2023-02-14T00:01:02.147Z"
   },
   {
    "duration": 43,
    "start_time": "2023-02-14T00:01:02.175Z"
   },
   {
    "duration": 51,
    "start_time": "2023-02-14T00:01:02.220Z"
   },
   {
    "duration": 225,
    "start_time": "2023-02-14T00:01:02.272Z"
   },
   {
    "duration": 11,
    "start_time": "2023-02-14T00:01:02.498Z"
   },
   {
    "duration": 41,
    "start_time": "2023-02-14T00:01:02.510Z"
   },
   {
    "duration": 17,
    "start_time": "2023-02-14T00:01:02.553Z"
   },
   {
    "duration": 30,
    "start_time": "2023-02-14T00:01:02.572Z"
   },
   {
    "duration": 42,
    "start_time": "2023-02-14T00:01:02.604Z"
   },
   {
    "duration": 1378,
    "start_time": "2023-02-14T00:01:02.647Z"
   },
   {
    "duration": 1182,
    "start_time": "2023-02-14T00:01:04.027Z"
   },
   {
    "duration": 1202,
    "start_time": "2023-02-14T00:01:05.211Z"
   },
   {
    "duration": 413,
    "start_time": "2023-02-14T00:01:06.415Z"
   },
   {
    "duration": 6,
    "start_time": "2023-02-14T00:01:06.829Z"
   },
   {
    "duration": 388,
    "start_time": "2023-02-14T00:01:06.836Z"
   },
   {
    "duration": 372,
    "start_time": "2023-02-14T00:01:36.567Z"
   },
   {
    "duration": 463,
    "start_time": "2023-02-14T00:03:35.935Z"
   },
   {
    "duration": 555,
    "start_time": "2023-02-14T00:09:52.475Z"
   },
   {
    "duration": 105,
    "start_time": "2023-02-14T00:11:57.003Z"
   },
   {
    "duration": 22,
    "start_time": "2023-02-14T00:11:57.281Z"
   },
   {
    "duration": 19,
    "start_time": "2023-02-14T00:31:36.249Z"
   },
   {
    "duration": 47,
    "start_time": "2023-02-14T00:32:28.782Z"
   },
   {
    "duration": 679,
    "start_time": "2023-02-14T00:36:24.248Z"
   },
   {
    "duration": 1366,
    "start_time": "2023-02-14T00:37:17.660Z"
   },
   {
    "duration": 686,
    "start_time": "2023-02-14T00:37:19.028Z"
   },
   {
    "duration": 19,
    "start_time": "2023-02-14T00:37:19.716Z"
   },
   {
    "duration": 12,
    "start_time": "2023-02-14T00:37:19.736Z"
   },
   {
    "duration": 17,
    "start_time": "2023-02-14T00:37:19.749Z"
   },
   {
    "duration": 3,
    "start_time": "2023-02-14T00:37:19.767Z"
   },
   {
    "duration": 26,
    "start_time": "2023-02-14T00:37:19.771Z"
   },
   {
    "duration": 4,
    "start_time": "2023-02-14T00:37:19.799Z"
   },
   {
    "duration": 8,
    "start_time": "2023-02-14T00:37:19.804Z"
   },
   {
    "duration": 5,
    "start_time": "2023-02-14T00:37:19.814Z"
   },
   {
    "duration": 238,
    "start_time": "2023-02-14T00:37:19.820Z"
   },
   {
    "duration": 11,
    "start_time": "2023-02-14T00:37:20.060Z"
   },
   {
    "duration": 3,
    "start_time": "2023-02-14T00:37:20.073Z"
   },
   {
    "duration": 8,
    "start_time": "2023-02-14T00:37:20.095Z"
   },
   {
    "duration": 15,
    "start_time": "2023-02-14T00:37:20.105Z"
   },
   {
    "duration": 212,
    "start_time": "2023-02-14T00:37:20.122Z"
   },
   {
    "duration": 11,
    "start_time": "2023-02-14T00:37:20.336Z"
   },
   {
    "duration": 6,
    "start_time": "2023-02-14T00:37:20.348Z"
   },
   {
    "duration": 9,
    "start_time": "2023-02-14T00:37:20.355Z"
   },
   {
    "duration": 28,
    "start_time": "2023-02-14T00:37:20.366Z"
   },
   {
    "duration": 6,
    "start_time": "2023-02-14T00:37:20.395Z"
   },
   {
    "duration": 1248,
    "start_time": "2023-02-14T00:37:20.403Z"
   },
   {
    "duration": 1165,
    "start_time": "2023-02-14T00:37:21.653Z"
   },
   {
    "duration": 1212,
    "start_time": "2023-02-14T00:37:22.820Z"
   },
   {
    "duration": 451,
    "start_time": "2023-02-14T00:37:24.034Z"
   },
   {
    "duration": 8,
    "start_time": "2023-02-14T00:37:24.487Z"
   },
   {
    "duration": 491,
    "start_time": "2023-02-14T00:37:24.496Z"
   },
   {
    "duration": 785,
    "start_time": "2023-02-14T00:37:24.988Z"
   },
   {
    "duration": 657,
    "start_time": "2023-02-14T00:39:54.700Z"
   },
   {
    "duration": 29,
    "start_time": "2023-02-14T00:42:28.910Z"
   },
   {
    "duration": 11,
    "start_time": "2023-02-14T00:46:02.095Z"
   },
   {
    "duration": 14,
    "start_time": "2023-02-14T00:47:04.104Z"
   },
   {
    "duration": 47,
    "start_time": "2023-02-14T00:47:50.697Z"
   },
   {
    "duration": 15,
    "start_time": "2023-02-14T00:47:54.961Z"
   },
   {
    "duration": 19,
    "start_time": "2023-02-14T00:48:12.723Z"
   },
   {
    "duration": 8,
    "start_time": "2023-02-14T00:48:43.463Z"
   },
   {
    "duration": 455,
    "start_time": "2023-02-14T00:48:57.552Z"
   },
   {
    "duration": 3,
    "start_time": "2023-02-14T01:36:31.317Z"
   },
   {
    "duration": 3,
    "start_time": "2023-02-14T01:36:59.559Z"
   },
   {
    "duration": 4,
    "start_time": "2023-02-14T01:40:38.179Z"
   },
   {
    "duration": 10,
    "start_time": "2023-02-14T01:42:29.083Z"
   },
   {
    "duration": 6,
    "start_time": "2023-02-14T01:59:36.656Z"
   },
   {
    "duration": 10,
    "start_time": "2023-02-14T02:01:07.845Z"
   },
   {
    "duration": 2,
    "start_time": "2023-02-14T02:25:46.412Z"
   },
   {
    "duration": 16,
    "start_time": "2023-02-14T02:25:49.214Z"
   },
   {
    "duration": 12,
    "start_time": "2023-02-14T02:26:19.974Z"
   },
   {
    "duration": 12,
    "start_time": "2023-02-14T02:26:44.399Z"
   },
   {
    "duration": 1303,
    "start_time": "2023-02-14T02:27:29.552Z"
   },
   {
    "duration": 706,
    "start_time": "2023-02-14T02:27:30.857Z"
   },
   {
    "duration": 19,
    "start_time": "2023-02-14T02:27:31.565Z"
   },
   {
    "duration": 11,
    "start_time": "2023-02-14T02:27:31.593Z"
   },
   {
    "duration": 16,
    "start_time": "2023-02-14T02:27:31.606Z"
   },
   {
    "duration": 2,
    "start_time": "2023-02-14T02:27:31.624Z"
   },
   {
    "duration": 11,
    "start_time": "2023-02-14T02:27:31.628Z"
   },
   {
    "duration": 4,
    "start_time": "2023-02-14T02:27:31.640Z"
   },
   {
    "duration": 11,
    "start_time": "2023-02-14T02:27:31.645Z"
   },
   {
    "duration": 30,
    "start_time": "2023-02-14T02:27:31.658Z"
   },
   {
    "duration": 241,
    "start_time": "2023-02-14T02:27:31.689Z"
   },
   {
    "duration": 10,
    "start_time": "2023-02-14T02:27:31.931Z"
   },
   {
    "duration": 3,
    "start_time": "2023-02-14T02:27:31.943Z"
   },
   {
    "duration": 10,
    "start_time": "2023-02-14T02:27:31.947Z"
   },
   {
    "duration": 29,
    "start_time": "2023-02-14T02:27:31.958Z"
   },
   {
    "duration": 191,
    "start_time": "2023-02-14T02:27:31.989Z"
   },
   {
    "duration": 17,
    "start_time": "2023-02-14T02:27:32.182Z"
   },
   {
    "duration": 16,
    "start_time": "2023-02-14T02:27:32.201Z"
   },
   {
    "duration": 16,
    "start_time": "2023-02-14T02:27:32.218Z"
   },
   {
    "duration": 18,
    "start_time": "2023-02-14T02:27:32.235Z"
   },
   {
    "duration": 12,
    "start_time": "2023-02-14T02:27:32.254Z"
   },
   {
    "duration": 1155,
    "start_time": "2023-02-14T02:27:32.267Z"
   },
   {
    "duration": 1182,
    "start_time": "2023-02-14T02:27:33.423Z"
   },
   {
    "duration": 1299,
    "start_time": "2023-02-14T02:27:34.607Z"
   },
   {
    "duration": 413,
    "start_time": "2023-02-14T02:27:35.908Z"
   },
   {
    "duration": 7,
    "start_time": "2023-02-14T02:27:36.323Z"
   },
   {
    "duration": 477,
    "start_time": "2023-02-14T02:27:36.332Z"
   },
   {
    "duration": 11,
    "start_time": "2023-02-14T02:27:36.813Z"
   },
   {
    "duration": 14,
    "start_time": "2023-02-14T02:27:36.825Z"
   },
   {
    "duration": 16,
    "start_time": "2023-02-14T02:27:36.840Z"
   },
   {
    "duration": 45,
    "start_time": "2023-02-14T02:27:36.857Z"
   },
   {
    "duration": 8,
    "start_time": "2023-02-14T02:27:36.903Z"
   },
   {
    "duration": 11,
    "start_time": "2023-02-14T02:27:36.912Z"
   },
   {
    "duration": 4,
    "start_time": "2023-02-14T02:27:36.924Z"
   },
   {
    "duration": 5,
    "start_time": "2023-02-14T02:27:36.929Z"
   },
   {
    "duration": 122,
    "start_time": "2023-02-14T02:27:36.935Z"
   },
   {
    "duration": 9,
    "start_time": "2023-02-14T02:27:55.265Z"
   },
   {
    "duration": 27,
    "start_time": "2023-02-14T02:28:03.157Z"
   },
   {
    "duration": 4,
    "start_time": "2023-02-14T02:28:19.360Z"
   },
   {
    "duration": 5,
    "start_time": "2023-02-14T02:30:07.409Z"
   },
   {
    "duration": 761,
    "start_time": "2023-02-14T02:30:18.943Z"
   },
   {
    "duration": 8,
    "start_time": "2023-02-14T02:32:43.136Z"
   },
   {
    "duration": 10,
    "start_time": "2023-02-14T02:33:07.818Z"
   },
   {
    "duration": 4,
    "start_time": "2023-02-14T02:36:53.461Z"
   },
   {
    "duration": 1299,
    "start_time": "2023-02-14T02:37:05.017Z"
   },
   {
    "duration": 653,
    "start_time": "2023-02-14T02:37:06.318Z"
   },
   {
    "duration": 23,
    "start_time": "2023-02-14T02:37:06.972Z"
   },
   {
    "duration": 11,
    "start_time": "2023-02-14T02:37:06.996Z"
   },
   {
    "duration": 16,
    "start_time": "2023-02-14T02:37:07.008Z"
   },
   {
    "duration": 2,
    "start_time": "2023-02-14T02:37:07.026Z"
   },
   {
    "duration": 8,
    "start_time": "2023-02-14T02:37:07.030Z"
   },
   {
    "duration": 5,
    "start_time": "2023-02-14T02:37:07.039Z"
   },
   {
    "duration": 6,
    "start_time": "2023-02-14T02:37:07.045Z"
   },
   {
    "duration": 6,
    "start_time": "2023-02-14T02:37:07.053Z"
   },
   {
    "duration": 3,
    "start_time": "2023-02-14T02:37:07.094Z"
   },
   {
    "duration": 242,
    "start_time": "2023-02-14T02:37:07.098Z"
   },
   {
    "duration": 11,
    "start_time": "2023-02-14T02:37:07.341Z"
   },
   {
    "duration": 3,
    "start_time": "2023-02-14T02:37:07.355Z"
   },
   {
    "duration": 11,
    "start_time": "2023-02-14T02:37:07.360Z"
   },
   {
    "duration": 28,
    "start_time": "2023-02-14T02:37:07.373Z"
   },
   {
    "duration": 192,
    "start_time": "2023-02-14T02:37:07.402Z"
   },
   {
    "duration": 9,
    "start_time": "2023-02-14T02:37:07.596Z"
   },
   {
    "duration": 6,
    "start_time": "2023-02-14T02:37:07.607Z"
   },
   {
    "duration": 5,
    "start_time": "2023-02-14T02:37:07.614Z"
   },
   {
    "duration": 6,
    "start_time": "2023-02-14T02:37:07.620Z"
   },
   {
    "duration": 6,
    "start_time": "2023-02-14T02:37:07.627Z"
   },
   {
    "duration": 1176,
    "start_time": "2023-02-14T02:37:07.634Z"
   },
   {
    "duration": 1204,
    "start_time": "2023-02-14T02:37:08.811Z"
   },
   {
    "duration": 1179,
    "start_time": "2023-02-14T02:37:10.017Z"
   },
   {
    "duration": 400,
    "start_time": "2023-02-14T02:37:11.197Z"
   },
   {
    "duration": 7,
    "start_time": "2023-02-14T02:37:11.598Z"
   },
   {
    "duration": 454,
    "start_time": "2023-02-14T02:37:11.607Z"
   },
   {
    "duration": 10,
    "start_time": "2023-02-14T02:37:12.063Z"
   },
   {
    "duration": 20,
    "start_time": "2023-02-14T02:37:12.075Z"
   },
   {
    "duration": 15,
    "start_time": "2023-02-14T02:37:12.096Z"
   },
   {
    "duration": 18,
    "start_time": "2023-02-14T02:37:12.113Z"
   },
   {
    "duration": 7,
    "start_time": "2023-02-14T02:37:12.133Z"
   },
   {
    "duration": 20,
    "start_time": "2023-02-14T02:37:12.142Z"
   },
   {
    "duration": 5,
    "start_time": "2023-02-14T02:37:12.163Z"
   },
   {
    "duration": 24,
    "start_time": "2023-02-14T02:37:12.169Z"
   },
   {
    "duration": 103,
    "start_time": "2023-02-14T02:37:12.195Z"
   },
   {
    "duration": 0,
    "start_time": "2023-02-14T02:37:12.299Z"
   },
   {
    "duration": 0,
    "start_time": "2023-02-14T02:37:12.301Z"
   },
   {
    "duration": 17,
    "start_time": "2023-02-14T02:37:42.024Z"
   },
   {
    "duration": 4,
    "start_time": "2023-02-14T02:40:23.393Z"
   },
   {
    "duration": 12,
    "start_time": "2023-02-14T02:41:10.193Z"
   },
   {
    "duration": 696,
    "start_time": "2023-02-14T02:41:32.281Z"
   },
   {
    "duration": 9,
    "start_time": "2023-02-14T02:45:02.546Z"
   },
   {
    "duration": 13,
    "start_time": "2023-02-14T02:45:08.916Z"
   },
   {
    "duration": 14,
    "start_time": "2023-02-14T02:45:39.674Z"
   },
   {
    "duration": 14,
    "start_time": "2023-02-14T02:45:45.907Z"
   },
   {
    "duration": 12,
    "start_time": "2023-02-14T02:48:21.227Z"
   },
   {
    "duration": 12,
    "start_time": "2023-02-14T02:49:37.285Z"
   },
   {
    "duration": 12,
    "start_time": "2023-02-14T02:51:38.947Z"
   },
   {
    "duration": 12,
    "start_time": "2023-02-14T02:57:00.021Z"
   },
   {
    "duration": 11,
    "start_time": "2023-02-14T02:57:00.290Z"
   },
   {
    "duration": 1281,
    "start_time": "2023-02-14T02:57:22.039Z"
   },
   {
    "duration": 684,
    "start_time": "2023-02-14T02:57:23.321Z"
   },
   {
    "duration": 18,
    "start_time": "2023-02-14T02:57:24.006Z"
   },
   {
    "duration": 11,
    "start_time": "2023-02-14T02:57:24.025Z"
   },
   {
    "duration": 20,
    "start_time": "2023-02-14T02:57:24.037Z"
   },
   {
    "duration": 3,
    "start_time": "2023-02-14T02:57:24.058Z"
   },
   {
    "duration": 8,
    "start_time": "2023-02-14T02:57:24.062Z"
   },
   {
    "duration": 27,
    "start_time": "2023-02-14T02:57:24.071Z"
   },
   {
    "duration": 78,
    "start_time": "2023-02-14T02:57:24.100Z"
   },
   {
    "duration": 0,
    "start_time": "2023-02-14T02:57:24.181Z"
   },
   {
    "duration": 0,
    "start_time": "2023-02-14T02:57:24.183Z"
   },
   {
    "duration": 0,
    "start_time": "2023-02-14T02:57:24.185Z"
   },
   {
    "duration": 0,
    "start_time": "2023-02-14T02:57:24.186Z"
   },
   {
    "duration": 0,
    "start_time": "2023-02-14T02:57:24.187Z"
   },
   {
    "duration": 0,
    "start_time": "2023-02-14T02:57:24.189Z"
   },
   {
    "duration": 0,
    "start_time": "2023-02-14T02:57:24.191Z"
   },
   {
    "duration": 0,
    "start_time": "2023-02-14T02:57:24.192Z"
   },
   {
    "duration": 0,
    "start_time": "2023-02-14T02:57:24.193Z"
   },
   {
    "duration": 0,
    "start_time": "2023-02-14T02:57:24.195Z"
   },
   {
    "duration": 0,
    "start_time": "2023-02-14T02:57:24.196Z"
   },
   {
    "duration": 0,
    "start_time": "2023-02-14T02:57:24.197Z"
   },
   {
    "duration": 0,
    "start_time": "2023-02-14T02:57:24.199Z"
   },
   {
    "duration": 0,
    "start_time": "2023-02-14T02:57:24.200Z"
   },
   {
    "duration": 0,
    "start_time": "2023-02-14T02:57:24.201Z"
   },
   {
    "duration": 0,
    "start_time": "2023-02-14T02:57:24.203Z"
   },
   {
    "duration": 0,
    "start_time": "2023-02-14T02:57:24.204Z"
   },
   {
    "duration": 0,
    "start_time": "2023-02-14T02:57:24.206Z"
   },
   {
    "duration": 0,
    "start_time": "2023-02-14T02:57:24.207Z"
   },
   {
    "duration": 0,
    "start_time": "2023-02-14T02:57:24.208Z"
   },
   {
    "duration": 0,
    "start_time": "2023-02-14T02:57:24.210Z"
   },
   {
    "duration": 0,
    "start_time": "2023-02-14T02:57:24.211Z"
   },
   {
    "duration": 0,
    "start_time": "2023-02-14T02:57:24.212Z"
   },
   {
    "duration": 0,
    "start_time": "2023-02-14T02:57:24.213Z"
   },
   {
    "duration": 0,
    "start_time": "2023-02-14T02:57:24.214Z"
   },
   {
    "duration": 0,
    "start_time": "2023-02-14T02:57:24.216Z"
   },
   {
    "duration": 0,
    "start_time": "2023-02-14T02:57:24.217Z"
   },
   {
    "duration": 0,
    "start_time": "2023-02-14T02:57:24.219Z"
   },
   {
    "duration": 0,
    "start_time": "2023-02-14T02:57:24.220Z"
   },
   {
    "duration": 0,
    "start_time": "2023-02-14T02:57:24.221Z"
   },
   {
    "duration": 0,
    "start_time": "2023-02-14T02:57:24.222Z"
   },
   {
    "duration": 0,
    "start_time": "2023-02-14T02:57:24.224Z"
   },
   {
    "duration": 0,
    "start_time": "2023-02-14T02:57:24.225Z"
   },
   {
    "duration": 1274,
    "start_time": "2023-02-14T02:58:14.445Z"
   },
   {
    "duration": 656,
    "start_time": "2023-02-14T02:58:15.721Z"
   },
   {
    "duration": 23,
    "start_time": "2023-02-14T02:58:16.379Z"
   },
   {
    "duration": 12,
    "start_time": "2023-02-14T02:58:16.404Z"
   },
   {
    "duration": 16,
    "start_time": "2023-02-14T02:58:16.419Z"
   },
   {
    "duration": 2,
    "start_time": "2023-02-14T02:58:16.437Z"
   },
   {
    "duration": 7,
    "start_time": "2023-02-14T02:58:16.441Z"
   },
   {
    "duration": 4,
    "start_time": "2023-02-14T02:58:16.450Z"
   },
   {
    "duration": 2,
    "start_time": "2023-02-14T02:58:16.456Z"
   },
   {
    "duration": 37,
    "start_time": "2023-02-14T02:58:16.460Z"
   },
   {
    "duration": 4,
    "start_time": "2023-02-14T02:58:16.499Z"
   },
   {
    "duration": 235,
    "start_time": "2023-02-14T02:58:16.504Z"
   },
   {
    "duration": 9,
    "start_time": "2023-02-14T02:58:16.741Z"
   },
   {
    "duration": 2,
    "start_time": "2023-02-14T02:58:16.753Z"
   },
   {
    "duration": 9,
    "start_time": "2023-02-14T02:58:16.757Z"
   },
   {
    "duration": 120,
    "start_time": "2023-02-14T02:58:16.767Z"
   },
   {
    "duration": 0,
    "start_time": "2023-02-14T02:58:16.888Z"
   },
   {
    "duration": 0,
    "start_time": "2023-02-14T02:58:16.889Z"
   },
   {
    "duration": 0,
    "start_time": "2023-02-14T02:58:16.893Z"
   },
   {
    "duration": 0,
    "start_time": "2023-02-14T02:58:16.894Z"
   },
   {
    "duration": 0,
    "start_time": "2023-02-14T02:58:16.895Z"
   },
   {
    "duration": 0,
    "start_time": "2023-02-14T02:58:16.896Z"
   },
   {
    "duration": 0,
    "start_time": "2023-02-14T02:58:16.897Z"
   },
   {
    "duration": 0,
    "start_time": "2023-02-14T02:58:16.898Z"
   },
   {
    "duration": 0,
    "start_time": "2023-02-14T02:58:16.899Z"
   },
   {
    "duration": 0,
    "start_time": "2023-02-14T02:58:16.900Z"
   },
   {
    "duration": 0,
    "start_time": "2023-02-14T02:58:16.901Z"
   },
   {
    "duration": 0,
    "start_time": "2023-02-14T02:58:16.901Z"
   },
   {
    "duration": 0,
    "start_time": "2023-02-14T02:58:16.902Z"
   },
   {
    "duration": 0,
    "start_time": "2023-02-14T02:58:16.903Z"
   },
   {
    "duration": 0,
    "start_time": "2023-02-14T02:58:16.904Z"
   },
   {
    "duration": 0,
    "start_time": "2023-02-14T02:58:16.905Z"
   },
   {
    "duration": 0,
    "start_time": "2023-02-14T02:58:16.906Z"
   },
   {
    "duration": 0,
    "start_time": "2023-02-14T02:58:16.907Z"
   },
   {
    "duration": 0,
    "start_time": "2023-02-14T02:58:16.907Z"
   },
   {
    "duration": 0,
    "start_time": "2023-02-14T02:58:16.908Z"
   },
   {
    "duration": 0,
    "start_time": "2023-02-14T02:58:16.909Z"
   },
   {
    "duration": 0,
    "start_time": "2023-02-14T02:58:16.910Z"
   },
   {
    "duration": 0,
    "start_time": "2023-02-14T02:58:16.911Z"
   },
   {
    "duration": 0,
    "start_time": "2023-02-14T02:58:16.912Z"
   },
   {
    "duration": 0,
    "start_time": "2023-02-14T02:58:16.912Z"
   },
   {
    "duration": 0,
    "start_time": "2023-02-14T02:58:16.913Z"
   },
   {
    "duration": 11,
    "start_time": "2023-02-14T02:59:00.986Z"
   },
   {
    "duration": 1274,
    "start_time": "2023-02-14T02:59:14.324Z"
   },
   {
    "duration": 681,
    "start_time": "2023-02-14T02:59:15.600Z"
   },
   {
    "duration": 23,
    "start_time": "2023-02-14T02:59:16.283Z"
   },
   {
    "duration": 11,
    "start_time": "2023-02-14T02:59:16.308Z"
   },
   {
    "duration": 20,
    "start_time": "2023-02-14T02:59:16.321Z"
   },
   {
    "duration": 3,
    "start_time": "2023-02-14T02:59:16.343Z"
   },
   {
    "duration": 11,
    "start_time": "2023-02-14T02:59:16.348Z"
   },
   {
    "duration": 6,
    "start_time": "2023-02-14T02:59:16.361Z"
   },
   {
    "duration": 26,
    "start_time": "2023-02-14T02:59:16.368Z"
   },
   {
    "duration": 10,
    "start_time": "2023-02-14T02:59:16.395Z"
   },
   {
    "duration": 4,
    "start_time": "2023-02-14T02:59:16.407Z"
   },
   {
    "duration": 244,
    "start_time": "2023-02-14T02:59:16.412Z"
   },
   {
    "duration": 9,
    "start_time": "2023-02-14T02:59:16.658Z"
   },
   {
    "duration": 5,
    "start_time": "2023-02-14T02:59:16.670Z"
   },
   {
    "duration": 21,
    "start_time": "2023-02-14T02:59:16.676Z"
   },
   {
    "duration": 8,
    "start_time": "2023-02-14T02:59:16.698Z"
   },
   {
    "duration": 5,
    "start_time": "2023-02-14T02:59:16.707Z"
   },
   {
    "duration": 110,
    "start_time": "2023-02-14T02:59:16.714Z"
   },
   {
    "duration": 0,
    "start_time": "2023-02-14T02:59:16.826Z"
   },
   {
    "duration": 0,
    "start_time": "2023-02-14T02:59:16.827Z"
   },
   {
    "duration": 0,
    "start_time": "2023-02-14T02:59:16.828Z"
   },
   {
    "duration": 0,
    "start_time": "2023-02-14T02:59:16.829Z"
   },
   {
    "duration": 0,
    "start_time": "2023-02-14T02:59:16.830Z"
   },
   {
    "duration": 0,
    "start_time": "2023-02-14T02:59:16.831Z"
   },
   {
    "duration": 0,
    "start_time": "2023-02-14T02:59:16.832Z"
   },
   {
    "duration": 0,
    "start_time": "2023-02-14T02:59:16.833Z"
   },
   {
    "duration": 0,
    "start_time": "2023-02-14T02:59:16.834Z"
   },
   {
    "duration": 0,
    "start_time": "2023-02-14T02:59:16.835Z"
   },
   {
    "duration": 0,
    "start_time": "2023-02-14T02:59:16.836Z"
   },
   {
    "duration": 0,
    "start_time": "2023-02-14T02:59:16.837Z"
   },
   {
    "duration": 0,
    "start_time": "2023-02-14T02:59:16.838Z"
   },
   {
    "duration": 0,
    "start_time": "2023-02-14T02:59:16.839Z"
   },
   {
    "duration": 0,
    "start_time": "2023-02-14T02:59:16.840Z"
   },
   {
    "duration": 0,
    "start_time": "2023-02-14T02:59:16.841Z"
   },
   {
    "duration": 0,
    "start_time": "2023-02-14T02:59:16.841Z"
   },
   {
    "duration": 0,
    "start_time": "2023-02-14T02:59:16.842Z"
   },
   {
    "duration": 0,
    "start_time": "2023-02-14T02:59:16.843Z"
   },
   {
    "duration": 0,
    "start_time": "2023-02-14T02:59:16.844Z"
   },
   {
    "duration": 0,
    "start_time": "2023-02-14T02:59:16.845Z"
   },
   {
    "duration": 0,
    "start_time": "2023-02-14T02:59:16.846Z"
   },
   {
    "duration": 0,
    "start_time": "2023-02-14T02:59:16.847Z"
   },
   {
    "duration": 0,
    "start_time": "2023-02-14T02:59:16.847Z"
   },
   {
    "duration": 1279,
    "start_time": "2023-02-14T02:59:53.414Z"
   },
   {
    "duration": 647,
    "start_time": "2023-02-14T02:59:54.694Z"
   },
   {
    "duration": 16,
    "start_time": "2023-02-14T02:59:55.343Z"
   },
   {
    "duration": 11,
    "start_time": "2023-02-14T02:59:55.361Z"
   },
   {
    "duration": 28,
    "start_time": "2023-02-14T02:59:55.373Z"
   },
   {
    "duration": 3,
    "start_time": "2023-02-14T02:59:55.402Z"
   },
   {
    "duration": 13,
    "start_time": "2023-02-14T02:59:55.406Z"
   },
   {
    "duration": 28,
    "start_time": "2023-02-14T02:59:55.421Z"
   },
   {
    "duration": 11,
    "start_time": "2023-02-14T02:59:55.450Z"
   },
   {
    "duration": 14,
    "start_time": "2023-02-14T02:59:55.463Z"
   },
   {
    "duration": 17,
    "start_time": "2023-02-14T02:59:55.478Z"
   },
   {
    "duration": 225,
    "start_time": "2023-02-14T02:59:55.496Z"
   },
   {
    "duration": 10,
    "start_time": "2023-02-14T02:59:55.723Z"
   },
   {
    "duration": 7,
    "start_time": "2023-02-14T02:59:55.734Z"
   },
   {
    "duration": 11,
    "start_time": "2023-02-14T02:59:55.742Z"
   },
   {
    "duration": 6,
    "start_time": "2023-02-14T02:59:55.755Z"
   },
   {
    "duration": 4,
    "start_time": "2023-02-14T02:59:55.763Z"
   },
   {
    "duration": 113,
    "start_time": "2023-02-14T02:59:55.769Z"
   },
   {
    "duration": 0,
    "start_time": "2023-02-14T02:59:55.885Z"
   },
   {
    "duration": 0,
    "start_time": "2023-02-14T02:59:55.885Z"
   },
   {
    "duration": 0,
    "start_time": "2023-02-14T02:59:55.886Z"
   },
   {
    "duration": 0,
    "start_time": "2023-02-14T02:59:55.887Z"
   },
   {
    "duration": 0,
    "start_time": "2023-02-14T02:59:55.893Z"
   },
   {
    "duration": 0,
    "start_time": "2023-02-14T02:59:55.894Z"
   },
   {
    "duration": 0,
    "start_time": "2023-02-14T02:59:55.895Z"
   },
   {
    "duration": 0,
    "start_time": "2023-02-14T02:59:55.895Z"
   },
   {
    "duration": 0,
    "start_time": "2023-02-14T02:59:55.896Z"
   },
   {
    "duration": 0,
    "start_time": "2023-02-14T02:59:55.897Z"
   },
   {
    "duration": 0,
    "start_time": "2023-02-14T02:59:55.898Z"
   },
   {
    "duration": 0,
    "start_time": "2023-02-14T02:59:55.899Z"
   },
   {
    "duration": 0,
    "start_time": "2023-02-14T02:59:55.900Z"
   },
   {
    "duration": 0,
    "start_time": "2023-02-14T02:59:55.901Z"
   },
   {
    "duration": 0,
    "start_time": "2023-02-14T02:59:55.902Z"
   },
   {
    "duration": 0,
    "start_time": "2023-02-14T02:59:55.902Z"
   },
   {
    "duration": 0,
    "start_time": "2023-02-14T02:59:55.903Z"
   },
   {
    "duration": 0,
    "start_time": "2023-02-14T02:59:55.904Z"
   },
   {
    "duration": 0,
    "start_time": "2023-02-14T02:59:55.905Z"
   },
   {
    "duration": 0,
    "start_time": "2023-02-14T02:59:55.906Z"
   },
   {
    "duration": 0,
    "start_time": "2023-02-14T02:59:55.906Z"
   },
   {
    "duration": 0,
    "start_time": "2023-02-14T02:59:55.907Z"
   },
   {
    "duration": 0,
    "start_time": "2023-02-14T02:59:55.908Z"
   },
   {
    "duration": 0,
    "start_time": "2023-02-14T02:59:55.909Z"
   },
   {
    "duration": 6,
    "start_time": "2023-02-14T03:00:41.456Z"
   },
   {
    "duration": 1279,
    "start_time": "2023-02-14T03:00:46.421Z"
   },
   {
    "duration": 656,
    "start_time": "2023-02-14T03:00:47.701Z"
   },
   {
    "duration": 18,
    "start_time": "2023-02-14T03:00:48.358Z"
   },
   {
    "duration": 21,
    "start_time": "2023-02-14T03:00:48.378Z"
   },
   {
    "duration": 16,
    "start_time": "2023-02-14T03:00:48.402Z"
   },
   {
    "duration": 2,
    "start_time": "2023-02-14T03:00:48.420Z"
   },
   {
    "duration": 7,
    "start_time": "2023-02-14T03:00:48.424Z"
   },
   {
    "duration": 5,
    "start_time": "2023-02-14T03:00:48.432Z"
   },
   {
    "duration": 4,
    "start_time": "2023-02-14T03:00:48.438Z"
   },
   {
    "duration": 8,
    "start_time": "2023-02-14T03:00:48.443Z"
   },
   {
    "duration": 3,
    "start_time": "2023-02-14T03:00:48.453Z"
   },
   {
    "duration": 240,
    "start_time": "2023-02-14T03:00:48.493Z"
   },
   {
    "duration": 11,
    "start_time": "2023-02-14T03:00:48.735Z"
   },
   {
    "duration": 3,
    "start_time": "2023-02-14T03:00:48.749Z"
   },
   {
    "duration": 10,
    "start_time": "2023-02-14T03:00:48.753Z"
   },
   {
    "duration": 8,
    "start_time": "2023-02-14T03:00:48.764Z"
   },
   {
    "duration": 19,
    "start_time": "2023-02-14T03:00:48.774Z"
   },
   {
    "duration": 7424,
    "start_time": "2023-02-14T03:00:48.795Z"
   },
   {
    "duration": 2,
    "start_time": "2023-02-14T03:00:56.220Z"
   },
   {
    "duration": 8,
    "start_time": "2023-02-14T03:00:56.224Z"
   },
   {
    "duration": 14,
    "start_time": "2023-02-14T03:00:56.234Z"
   },
   {
    "duration": 6,
    "start_time": "2023-02-14T03:00:56.249Z"
   },
   {
    "duration": 5,
    "start_time": "2023-02-14T03:00:56.256Z"
   },
   {
    "duration": 5,
    "start_time": "2023-02-14T03:00:56.263Z"
   },
   {
    "duration": 6,
    "start_time": "2023-02-14T03:00:56.294Z"
   },
   {
    "duration": 1218,
    "start_time": "2023-02-14T03:00:56.302Z"
   },
   {
    "duration": 1178,
    "start_time": "2023-02-14T03:00:57.521Z"
   },
   {
    "duration": 1190,
    "start_time": "2023-02-14T03:00:58.701Z"
   },
   {
    "duration": 409,
    "start_time": "2023-02-14T03:00:59.894Z"
   },
   {
    "duration": 8,
    "start_time": "2023-02-14T03:01:00.305Z"
   },
   {
    "duration": 490,
    "start_time": "2023-02-14T03:01:00.314Z"
   },
   {
    "duration": 16,
    "start_time": "2023-02-14T03:01:00.806Z"
   },
   {
    "duration": 34,
    "start_time": "2023-02-14T03:01:00.824Z"
   },
   {
    "duration": 40,
    "start_time": "2023-02-14T03:01:00.860Z"
   },
   {
    "duration": 36,
    "start_time": "2023-02-14T03:01:00.902Z"
   },
   {
    "duration": 24,
    "start_time": "2023-02-14T03:01:00.939Z"
   },
   {
    "duration": 30,
    "start_time": "2023-02-14T03:01:00.965Z"
   },
   {
    "duration": 41,
    "start_time": "2023-02-14T03:01:00.997Z"
   },
   {
    "duration": 27,
    "start_time": "2023-02-14T03:01:01.040Z"
   },
   {
    "duration": 131,
    "start_time": "2023-02-14T03:01:01.069Z"
   },
   {
    "duration": 0,
    "start_time": "2023-02-14T03:01:01.201Z"
   },
   {
    "duration": 0,
    "start_time": "2023-02-14T03:01:01.202Z"
   },
   {
    "duration": 13,
    "start_time": "2023-02-14T03:02:21.021Z"
   },
   {
    "duration": 8,
    "start_time": "2023-02-14T03:02:44.972Z"
   },
   {
    "duration": 7,
    "start_time": "2023-02-14T03:03:15.640Z"
   },
   {
    "duration": 13,
    "start_time": "2023-02-14T03:05:22.627Z"
   },
   {
    "duration": 16,
    "start_time": "2023-02-14T03:20:44.954Z"
   },
   {
    "duration": 10,
    "start_time": "2023-02-14T03:23:07.476Z"
   },
   {
    "duration": 11,
    "start_time": "2023-02-14T03:23:18.053Z"
   },
   {
    "duration": 9,
    "start_time": "2023-02-14T03:23:29.150Z"
   },
   {
    "duration": 1342,
    "start_time": "2023-02-14T03:23:36.854Z"
   },
   {
    "duration": 1271,
    "start_time": "2023-02-14T03:30:35.824Z"
   },
   {
    "duration": 15,
    "start_time": "2023-02-14T03:42:46.683Z"
   },
   {
    "duration": 1315,
    "start_time": "2023-02-14T03:45:37.904Z"
   },
   {
    "duration": 660,
    "start_time": "2023-02-14T03:45:39.221Z"
   },
   {
    "duration": 23,
    "start_time": "2023-02-14T03:45:39.883Z"
   },
   {
    "duration": 11,
    "start_time": "2023-02-14T03:45:39.907Z"
   },
   {
    "duration": 18,
    "start_time": "2023-02-14T03:45:39.919Z"
   },
   {
    "duration": 2,
    "start_time": "2023-02-14T03:45:39.939Z"
   },
   {
    "duration": 7,
    "start_time": "2023-02-14T03:45:39.942Z"
   },
   {
    "duration": 6,
    "start_time": "2023-02-14T03:45:39.950Z"
   },
   {
    "duration": 7,
    "start_time": "2023-02-14T03:45:39.957Z"
   },
   {
    "duration": 11,
    "start_time": "2023-02-14T03:45:39.965Z"
   },
   {
    "duration": 3,
    "start_time": "2023-02-14T03:45:39.994Z"
   },
   {
    "duration": 248,
    "start_time": "2023-02-14T03:45:39.998Z"
   },
   {
    "duration": 2,
    "start_time": "2023-02-14T03:45:40.248Z"
   },
   {
    "duration": 15,
    "start_time": "2023-02-14T03:45:40.252Z"
   },
   {
    "duration": 254,
    "start_time": "2023-02-14T03:45:40.268Z"
   },
   {
    "duration": 11,
    "start_time": "2023-02-14T03:45:40.524Z"
   },
   {
    "duration": 7,
    "start_time": "2023-02-14T03:45:40.536Z"
   },
   {
    "duration": 7,
    "start_time": "2023-02-14T03:45:40.544Z"
   },
   {
    "duration": 7,
    "start_time": "2023-02-14T03:45:40.553Z"
   },
   {
    "duration": 38,
    "start_time": "2023-02-14T03:45:40.561Z"
   },
   {
    "duration": 1318,
    "start_time": "2023-02-14T03:45:40.601Z"
   },
   {
    "duration": 1201,
    "start_time": "2023-02-14T03:45:41.921Z"
   },
   {
    "duration": 1209,
    "start_time": "2023-02-14T03:45:43.124Z"
   },
   {
    "duration": 400,
    "start_time": "2023-02-14T03:45:44.335Z"
   },
   {
    "duration": 6,
    "start_time": "2023-02-14T03:45:44.736Z"
   },
   {
    "duration": 469,
    "start_time": "2023-02-14T03:45:44.744Z"
   },
   {
    "duration": 14,
    "start_time": "2023-02-14T03:45:45.214Z"
   },
   {
    "duration": 17,
    "start_time": "2023-02-14T03:45:45.229Z"
   },
   {
    "duration": 14,
    "start_time": "2023-02-14T03:45:45.248Z"
   },
   {
    "duration": 40,
    "start_time": "2023-02-14T03:45:45.263Z"
   },
   {
    "duration": 7,
    "start_time": "2023-02-14T03:45:45.305Z"
   },
   {
    "duration": 13,
    "start_time": "2023-02-14T03:45:45.313Z"
   },
   {
    "duration": 4,
    "start_time": "2023-02-14T03:45:45.328Z"
   },
   {
    "duration": 3,
    "start_time": "2023-02-14T03:45:45.334Z"
   },
   {
    "duration": 123,
    "start_time": "2023-02-14T03:45:45.339Z"
   },
   {
    "duration": 0,
    "start_time": "2023-02-14T03:45:45.464Z"
   },
   {
    "duration": 0,
    "start_time": "2023-02-14T03:45:45.465Z"
   },
   {
    "duration": 0,
    "start_time": "2023-02-14T03:45:45.467Z"
   },
   {
    "duration": 0,
    "start_time": "2023-02-14T03:45:45.468Z"
   },
   {
    "duration": 0,
    "start_time": "2023-02-14T03:45:45.470Z"
   },
   {
    "duration": 0,
    "start_time": "2023-02-14T03:45:45.471Z"
   },
   {
    "duration": 8,
    "start_time": "2023-02-14T03:51:16.267Z"
   },
   {
    "duration": 12,
    "start_time": "2023-02-14T03:52:37.319Z"
   },
   {
    "duration": 7,
    "start_time": "2023-02-14T03:52:39.926Z"
   },
   {
    "duration": 4,
    "start_time": "2023-02-14T03:52:41.260Z"
   },
   {
    "duration": 13,
    "start_time": "2023-02-14T03:53:13.157Z"
   },
   {
    "duration": 4,
    "start_time": "2023-02-14T03:53:27.522Z"
   },
   {
    "duration": 3105,
    "start_time": "2023-02-14T03:55:27.697Z"
   },
   {
    "duration": 3,
    "start_time": "2023-02-14T03:56:53.022Z"
   },
   {
    "duration": 3,
    "start_time": "2023-02-14T03:56:53.434Z"
   },
   {
    "duration": 47,
    "start_time": "2023-02-14T03:56:53.814Z"
   },
   {
    "duration": 3,
    "start_time": "2023-02-14T03:57:01.576Z"
   },
   {
    "duration": 2923,
    "start_time": "2023-02-14T03:57:04.272Z"
   },
   {
    "duration": 9,
    "start_time": "2023-02-14T03:57:46.021Z"
   },
   {
    "duration": 2934,
    "start_time": "2023-02-14T03:57:46.360Z"
   },
   {
    "duration": 4,
    "start_time": "2023-02-14T04:02:04.484Z"
   },
   {
    "duration": 3242,
    "start_time": "2023-02-14T04:02:09.751Z"
   },
   {
    "duration": 15,
    "start_time": "2023-02-14T04:03:07.971Z"
   },
   {
    "duration": 2744,
    "start_time": "2023-02-14T04:03:11.464Z"
   },
   {
    "duration": 3,
    "start_time": "2023-02-14T04:10:32.043Z"
   },
   {
    "duration": 2,
    "start_time": "2023-02-14T04:10:32.454Z"
   },
   {
    "duration": 3191,
    "start_time": "2023-02-14T04:10:35.006Z"
   },
   {
    "duration": 3,
    "start_time": "2023-02-14T04:12:17.986Z"
   },
   {
    "duration": 3,
    "start_time": "2023-02-14T04:12:18.962Z"
   },
   {
    "duration": 2117,
    "start_time": "2023-02-14T04:12:22.876Z"
   },
   {
    "duration": 3,
    "start_time": "2023-02-14T04:13:40.587Z"
   },
   {
    "duration": 2041,
    "start_time": "2023-02-14T04:13:43.992Z"
   },
   {
    "duration": 1900,
    "start_time": "2023-02-14T04:15:28.807Z"
   },
   {
    "duration": 1326,
    "start_time": "2023-02-14T04:15:36.882Z"
   },
   {
    "duration": 676,
    "start_time": "2023-02-14T04:15:38.210Z"
   },
   {
    "duration": 19,
    "start_time": "2023-02-14T04:15:38.888Z"
   },
   {
    "duration": 11,
    "start_time": "2023-02-14T04:15:38.908Z"
   },
   {
    "duration": 16,
    "start_time": "2023-02-14T04:15:38.921Z"
   },
   {
    "duration": 3,
    "start_time": "2023-02-14T04:15:38.938Z"
   },
   {
    "duration": 7,
    "start_time": "2023-02-14T04:15:38.942Z"
   },
   {
    "duration": 3,
    "start_time": "2023-02-14T04:15:38.951Z"
   },
   {
    "duration": 6,
    "start_time": "2023-02-14T04:15:38.956Z"
   },
   {
    "duration": 2,
    "start_time": "2023-02-14T04:15:38.994Z"
   },
   {
    "duration": 247,
    "start_time": "2023-02-14T04:15:38.997Z"
   },
   {
    "duration": 2,
    "start_time": "2023-02-14T04:15:39.245Z"
   },
   {
    "duration": 16,
    "start_time": "2023-02-14T04:15:39.248Z"
   },
   {
    "duration": 252,
    "start_time": "2023-02-14T04:15:39.268Z"
   },
   {
    "duration": 10,
    "start_time": "2023-02-14T04:15:39.522Z"
   },
   {
    "duration": 5,
    "start_time": "2023-02-14T04:15:39.533Z"
   },
   {
    "duration": 7,
    "start_time": "2023-02-14T04:15:39.540Z"
   },
   {
    "duration": 6,
    "start_time": "2023-02-14T04:15:39.548Z"
   },
   {
    "duration": 5,
    "start_time": "2023-02-14T04:15:39.556Z"
   },
   {
    "duration": 1244,
    "start_time": "2023-02-14T04:15:39.563Z"
   },
   {
    "duration": 1202,
    "start_time": "2023-02-14T04:15:40.809Z"
   },
   {
    "duration": 1209,
    "start_time": "2023-02-14T04:15:42.013Z"
   },
   {
    "duration": 428,
    "start_time": "2023-02-14T04:15:43.224Z"
   },
   {
    "duration": 7,
    "start_time": "2023-02-14T04:15:43.653Z"
   },
   {
    "duration": 514,
    "start_time": "2023-02-14T04:15:43.662Z"
   },
   {
    "duration": 24,
    "start_time": "2023-02-14T04:15:44.178Z"
   },
   {
    "duration": 19,
    "start_time": "2023-02-14T04:15:44.204Z"
   },
   {
    "duration": 14,
    "start_time": "2023-02-14T04:15:44.224Z"
   },
   {
    "duration": 18,
    "start_time": "2023-02-14T04:15:44.240Z"
   },
   {
    "duration": 8,
    "start_time": "2023-02-14T04:15:44.260Z"
   },
   {
    "duration": 29,
    "start_time": "2023-02-14T04:15:44.269Z"
   },
   {
    "duration": 4,
    "start_time": "2023-02-14T04:15:44.300Z"
   },
   {
    "duration": 6,
    "start_time": "2023-02-14T04:15:44.306Z"
   },
   {
    "duration": 15,
    "start_time": "2023-02-14T04:15:44.313Z"
   },
   {
    "duration": 7,
    "start_time": "2023-02-14T04:15:44.329Z"
   },
   {
    "duration": 18,
    "start_time": "2023-02-14T04:15:44.338Z"
   },
   {
    "duration": 9,
    "start_time": "2023-02-14T04:15:44.358Z"
   },
   {
    "duration": 1859,
    "start_time": "2023-02-14T04:15:44.369Z"
   },
   {
    "duration": 4,
    "start_time": "2023-02-14T04:17:50.713Z"
   },
   {
    "duration": 3,
    "start_time": "2023-02-14T04:17:51.009Z"
   },
   {
    "duration": 1815,
    "start_time": "2023-02-14T04:17:53.392Z"
   },
   {
    "duration": 3,
    "start_time": "2023-02-14T04:18:25.843Z"
   },
   {
    "duration": 3,
    "start_time": "2023-02-14T04:18:27.778Z"
   },
   {
    "duration": 1807,
    "start_time": "2023-02-14T04:18:30.197Z"
   },
   {
    "duration": 2,
    "start_time": "2023-02-14T04:18:59.960Z"
   },
   {
    "duration": 3083,
    "start_time": "2023-02-14T04:19:07.019Z"
   },
   {
    "duration": 3,
    "start_time": "2023-02-14T04:20:02.381Z"
   },
   {
    "duration": 4,
    "start_time": "2023-02-14T04:20:02.595Z"
   },
   {
    "duration": 3217,
    "start_time": "2023-02-14T04:20:08.076Z"
   },
   {
    "duration": 11,
    "start_time": "2023-02-14T04:33:42.324Z"
   },
   {
    "duration": 2,
    "start_time": "2023-02-14T04:33:46.220Z"
   },
   {
    "duration": 3,
    "start_time": "2023-02-14T04:33:46.586Z"
   },
   {
    "duration": 9,
    "start_time": "2023-02-14T04:33:46.991Z"
   },
   {
    "duration": 4,
    "start_time": "2023-02-14T04:34:19.656Z"
   },
   {
    "duration": 2,
    "start_time": "2023-02-14T04:34:29.672Z"
   },
   {
    "duration": 3,
    "start_time": "2023-02-14T04:34:29.983Z"
   },
   {
    "duration": 10,
    "start_time": "2023-02-14T04:34:30.243Z"
   },
   {
    "duration": 0,
    "start_time": "2023-02-14T04:37:45.303Z"
   },
   {
    "duration": 0,
    "start_time": "2023-02-14T04:37:45.305Z"
   },
   {
    "duration": 1312,
    "start_time": "2023-02-14T04:37:59.303Z"
   },
   {
    "duration": 661,
    "start_time": "2023-02-14T04:38:00.617Z"
   },
   {
    "duration": 20,
    "start_time": "2023-02-14T04:38:01.280Z"
   },
   {
    "duration": 13,
    "start_time": "2023-02-14T04:38:01.301Z"
   },
   {
    "duration": 15,
    "start_time": "2023-02-14T04:38:01.316Z"
   },
   {
    "duration": 7,
    "start_time": "2023-02-14T04:38:01.332Z"
   },
   {
    "duration": 15,
    "start_time": "2023-02-14T04:38:01.341Z"
   },
   {
    "duration": 9,
    "start_time": "2023-02-14T04:38:01.358Z"
   },
   {
    "duration": 8,
    "start_time": "2023-02-14T04:38:01.369Z"
   },
   {
    "duration": 16,
    "start_time": "2023-02-14T04:38:01.379Z"
   },
   {
    "duration": 248,
    "start_time": "2023-02-14T04:38:01.397Z"
   },
   {
    "duration": 2,
    "start_time": "2023-02-14T04:38:01.647Z"
   },
   {
    "duration": 20,
    "start_time": "2023-02-14T04:38:01.650Z"
   },
   {
    "duration": 249,
    "start_time": "2023-02-14T04:38:01.673Z"
   },
   {
    "duration": 10,
    "start_time": "2023-02-14T04:38:01.923Z"
   },
   {
    "duration": 6,
    "start_time": "2023-02-14T04:38:01.934Z"
   },
   {
    "duration": 8,
    "start_time": "2023-02-14T04:38:01.942Z"
   },
   {
    "duration": 11,
    "start_time": "2023-02-14T04:38:01.951Z"
   },
   {
    "duration": 9,
    "start_time": "2023-02-14T04:38:01.964Z"
   },
   {
    "duration": 1245,
    "start_time": "2023-02-14T04:38:01.974Z"
   },
   {
    "duration": 1290,
    "start_time": "2023-02-14T04:38:03.221Z"
   },
   {
    "duration": 1198,
    "start_time": "2023-02-14T04:38:04.513Z"
   },
   {
    "duration": 409,
    "start_time": "2023-02-14T04:38:05.713Z"
   },
   {
    "duration": 6,
    "start_time": "2023-02-14T04:38:06.124Z"
   },
   {
    "duration": 475,
    "start_time": "2023-02-14T04:38:06.131Z"
   },
   {
    "duration": 14,
    "start_time": "2023-02-14T04:38:06.608Z"
   },
   {
    "duration": 17,
    "start_time": "2023-02-14T04:38:06.624Z"
   },
   {
    "duration": 14,
    "start_time": "2023-02-14T04:38:06.643Z"
   },
   {
    "duration": 46,
    "start_time": "2023-02-14T04:38:06.659Z"
   },
   {
    "duration": 7,
    "start_time": "2023-02-14T04:38:06.707Z"
   },
   {
    "duration": 14,
    "start_time": "2023-02-14T04:38:06.715Z"
   },
   {
    "duration": 4,
    "start_time": "2023-02-14T04:38:06.730Z"
   },
   {
    "duration": 6,
    "start_time": "2023-02-14T04:38:06.735Z"
   },
   {
    "duration": 110,
    "start_time": "2023-02-14T04:38:06.742Z"
   },
   {
    "duration": 0,
    "start_time": "2023-02-14T04:38:06.853Z"
   },
   {
    "duration": 0,
    "start_time": "2023-02-14T04:38:06.854Z"
   },
   {
    "duration": 0,
    "start_time": "2023-02-14T04:38:06.855Z"
   },
   {
    "duration": 0,
    "start_time": "2023-02-14T04:38:06.856Z"
   },
   {
    "duration": 0,
    "start_time": "2023-02-14T04:38:06.857Z"
   },
   {
    "duration": 0,
    "start_time": "2023-02-14T04:38:06.858Z"
   },
   {
    "duration": 0,
    "start_time": "2023-02-14T04:38:06.859Z"
   },
   {
    "duration": 0,
    "start_time": "2023-02-14T04:38:06.860Z"
   },
   {
    "duration": 8,
    "start_time": "2023-02-14T04:38:43.635Z"
   },
   {
    "duration": 3,
    "start_time": "2023-02-14T04:38:49.286Z"
   },
   {
    "duration": 1296,
    "start_time": "2023-02-14T04:38:54.106Z"
   },
   {
    "duration": 675,
    "start_time": "2023-02-14T04:38:55.404Z"
   },
   {
    "duration": 18,
    "start_time": "2023-02-14T04:38:56.080Z"
   },
   {
    "duration": 11,
    "start_time": "2023-02-14T04:38:56.100Z"
   },
   {
    "duration": 16,
    "start_time": "2023-02-14T04:38:56.112Z"
   },
   {
    "duration": 3,
    "start_time": "2023-02-14T04:38:56.129Z"
   },
   {
    "duration": 7,
    "start_time": "2023-02-14T04:38:56.133Z"
   },
   {
    "duration": 3,
    "start_time": "2023-02-14T04:38:56.141Z"
   },
   {
    "duration": 6,
    "start_time": "2023-02-14T04:38:56.146Z"
   },
   {
    "duration": 39,
    "start_time": "2023-02-14T04:38:56.154Z"
   },
   {
    "duration": 239,
    "start_time": "2023-02-14T04:38:56.195Z"
   },
   {
    "duration": 2,
    "start_time": "2023-02-14T04:38:56.435Z"
   },
   {
    "duration": 15,
    "start_time": "2023-02-14T04:38:56.439Z"
   },
   {
    "duration": 245,
    "start_time": "2023-02-14T04:38:56.456Z"
   },
   {
    "duration": 10,
    "start_time": "2023-02-14T04:38:56.703Z"
   },
   {
    "duration": 6,
    "start_time": "2023-02-14T04:38:56.714Z"
   },
   {
    "duration": 5,
    "start_time": "2023-02-14T04:38:56.721Z"
   },
   {
    "duration": 5,
    "start_time": "2023-02-14T04:38:56.728Z"
   },
   {
    "duration": 7,
    "start_time": "2023-02-14T04:38:56.734Z"
   },
   {
    "duration": 1165,
    "start_time": "2023-02-14T04:38:56.742Z"
   },
   {
    "duration": 1201,
    "start_time": "2023-02-14T04:38:57.908Z"
   },
   {
    "duration": 1191,
    "start_time": "2023-02-14T04:38:59.110Z"
   },
   {
    "duration": 423,
    "start_time": "2023-02-14T04:39:00.302Z"
   },
   {
    "duration": 6,
    "start_time": "2023-02-14T04:39:00.727Z"
   },
   {
    "duration": 494,
    "start_time": "2023-02-14T04:39:00.734Z"
   },
   {
    "duration": 13,
    "start_time": "2023-02-14T04:39:01.230Z"
   },
   {
    "duration": 29,
    "start_time": "2023-02-14T04:39:01.245Z"
   },
   {
    "duration": 16,
    "start_time": "2023-02-14T04:39:01.277Z"
   },
   {
    "duration": 18,
    "start_time": "2023-02-14T04:39:01.295Z"
   },
   {
    "duration": 7,
    "start_time": "2023-02-14T04:39:01.315Z"
   },
   {
    "duration": 25,
    "start_time": "2023-02-14T04:39:01.323Z"
   },
   {
    "duration": 12,
    "start_time": "2023-02-14T04:39:01.350Z"
   },
   {
    "duration": 17,
    "start_time": "2023-02-14T04:39:01.364Z"
   },
   {
    "duration": 13,
    "start_time": "2023-02-14T04:39:01.383Z"
   },
   {
    "duration": 37,
    "start_time": "2023-02-14T04:39:01.397Z"
   },
   {
    "duration": 15,
    "start_time": "2023-02-14T04:39:01.436Z"
   },
   {
    "duration": 20,
    "start_time": "2023-02-14T04:39:01.452Z"
   },
   {
    "duration": 2826,
    "start_time": "2023-02-14T04:39:01.474Z"
   },
   {
    "duration": 5,
    "start_time": "2023-02-14T04:39:04.302Z"
   },
   {
    "duration": 92,
    "start_time": "2023-02-14T04:39:04.308Z"
   },
   {
    "duration": 124460,
    "start_time": "2023-02-14T04:39:04.401Z"
   },
   {
    "duration": 111,
    "start_time": "2023-02-14T04:41:08.862Z"
   },
   {
    "duration": 4,
    "start_time": "2023-02-14T04:41:17.919Z"
   },
   {
    "duration": 15628,
    "start_time": "2023-02-14T04:42:05.777Z"
   },
   {
    "duration": 3,
    "start_time": "2023-02-14T04:43:34.318Z"
   },
   {
    "duration": 3,
    "start_time": "2023-02-14T04:43:34.630Z"
   },
   {
    "duration": 3,
    "start_time": "2023-02-14T04:43:35.033Z"
   },
   {
    "duration": 2761,
    "start_time": "2023-02-14T04:43:38.741Z"
   },
   {
    "duration": 15624,
    "start_time": "2023-02-14T04:43:46.445Z"
   },
   {
    "duration": 3,
    "start_time": "2023-02-14T04:48:54.823Z"
   },
   {
    "duration": 2,
    "start_time": "2023-02-14T04:49:05.116Z"
   },
   {
    "duration": 3,
    "start_time": "2023-02-14T04:49:18.765Z"
   },
   {
    "duration": 1262,
    "start_time": "2023-02-14T04:51:05.426Z"
   },
   {
    "duration": 670,
    "start_time": "2023-02-14T04:51:06.690Z"
   },
   {
    "duration": 18,
    "start_time": "2023-02-14T04:51:07.362Z"
   },
   {
    "duration": 23,
    "start_time": "2023-02-14T04:51:07.382Z"
   },
   {
    "duration": 16,
    "start_time": "2023-02-14T04:51:07.407Z"
   },
   {
    "duration": 3,
    "start_time": "2023-02-14T04:51:07.424Z"
   },
   {
    "duration": 7,
    "start_time": "2023-02-14T04:51:07.428Z"
   },
   {
    "duration": 4,
    "start_time": "2023-02-14T04:51:07.436Z"
   },
   {
    "duration": 7,
    "start_time": "2023-02-14T04:51:07.441Z"
   },
   {
    "duration": 3,
    "start_time": "2023-02-14T04:51:07.450Z"
   },
   {
    "duration": 267,
    "start_time": "2023-02-14T04:51:07.455Z"
   },
   {
    "duration": 2,
    "start_time": "2023-02-14T04:51:07.724Z"
   },
   {
    "duration": 20,
    "start_time": "2023-02-14T04:51:07.727Z"
   },
   {
    "duration": 244,
    "start_time": "2023-02-14T04:51:07.749Z"
   },
   {
    "duration": 11,
    "start_time": "2023-02-14T04:51:07.995Z"
   },
   {
    "duration": 6,
    "start_time": "2023-02-14T04:51:08.007Z"
   },
   {
    "duration": 8,
    "start_time": "2023-02-14T04:51:08.014Z"
   },
   {
    "duration": 6,
    "start_time": "2023-02-14T04:51:08.023Z"
   },
   {
    "duration": 5,
    "start_time": "2023-02-14T04:51:08.030Z"
   },
   {
    "duration": 1180,
    "start_time": "2023-02-14T04:51:08.037Z"
   },
   {
    "duration": 1195,
    "start_time": "2023-02-14T04:51:09.219Z"
   },
   {
    "duration": 1189,
    "start_time": "2023-02-14T04:51:10.416Z"
   },
   {
    "duration": 410,
    "start_time": "2023-02-14T04:51:11.606Z"
   },
   {
    "duration": 5,
    "start_time": "2023-02-14T04:51:12.018Z"
   },
   {
    "duration": 490,
    "start_time": "2023-02-14T04:51:12.025Z"
   },
   {
    "duration": 14,
    "start_time": "2023-02-14T04:51:12.517Z"
   },
   {
    "duration": 18,
    "start_time": "2023-02-14T04:51:12.532Z"
   },
   {
    "duration": 14,
    "start_time": "2023-02-14T04:51:12.553Z"
   },
   {
    "duration": 37,
    "start_time": "2023-02-14T04:51:12.569Z"
   },
   {
    "duration": 8,
    "start_time": "2023-02-14T04:51:12.608Z"
   },
   {
    "duration": 11,
    "start_time": "2023-02-14T04:51:12.618Z"
   },
   {
    "duration": 4,
    "start_time": "2023-02-14T04:51:12.630Z"
   },
   {
    "duration": 10,
    "start_time": "2023-02-14T04:51:12.635Z"
   },
   {
    "duration": 17,
    "start_time": "2023-02-14T04:51:12.646Z"
   },
   {
    "duration": 14,
    "start_time": "2023-02-14T04:51:12.664Z"
   },
   {
    "duration": 15,
    "start_time": "2023-02-14T04:51:12.680Z"
   },
   {
    "duration": 13,
    "start_time": "2023-02-14T04:51:12.696Z"
   },
   {
    "duration": 2988,
    "start_time": "2023-02-14T04:51:12.710Z"
   },
   {
    "duration": 93,
    "start_time": "2023-02-14T04:51:15.701Z"
   },
   {
    "duration": 4,
    "start_time": "2023-02-14T04:51:15.795Z"
   },
   {
    "duration": 128410,
    "start_time": "2023-02-14T04:51:15.800Z"
   },
   {
    "duration": 4,
    "start_time": "2023-02-14T04:53:24.211Z"
   },
   {
    "duration": 15531,
    "start_time": "2023-02-14T04:53:24.216Z"
   },
   {
    "duration": 3,
    "start_time": "2023-02-14T04:53:39.748Z"
   },
   {
    "duration": 5,
    "start_time": "2023-02-14T04:53:39.752Z"
   },
   {
    "duration": 6,
    "start_time": "2023-02-14T04:53:39.758Z"
   },
   {
    "duration": 66994,
    "start_time": "2023-02-14T04:53:39.765Z"
   },
   {
    "duration": 4,
    "start_time": "2023-02-14T04:54:46.761Z"
   },
   {
    "duration": 2676,
    "start_time": "2023-02-14T04:55:42.321Z"
   },
   {
    "duration": 46388,
    "start_time": "2023-02-14T04:55:54.259Z"
   },
   {
    "duration": 5293,
    "start_time": "2023-02-14T05:06:07.697Z"
   },
   {
    "duration": 444,
    "start_time": "2023-02-14T05:15:16.499Z"
   },
   {
    "duration": 2648,
    "start_time": "2023-02-14T05:15:35.685Z"
   },
   {
    "duration": 5288,
    "start_time": "2023-02-14T05:16:10.984Z"
   },
   {
    "duration": 5272,
    "start_time": "2023-02-14T05:16:24.581Z"
   },
   {
    "duration": 12,
    "start_time": "2023-02-14T05:17:10.673Z"
   },
   {
    "duration": 10,
    "start_time": "2023-02-14T05:17:34.185Z"
   },
   {
    "duration": 3,
    "start_time": "2023-02-14T05:21:40.590Z"
   },
   {
    "duration": 4,
    "start_time": "2023-02-14T05:21:41.244Z"
   },
   {
    "duration": 2661,
    "start_time": "2023-02-14T05:21:45.337Z"
   },
   {
    "duration": 46955,
    "start_time": "2023-02-14T05:21:53.264Z"
   },
   {
    "duration": 90,
    "start_time": "2023-02-14T18:19:25.757Z"
   },
   {
    "duration": 112,
    "start_time": "2023-02-14T20:25:24.710Z"
   },
   {
    "duration": 1606,
    "start_time": "2023-02-14T20:25:31.980Z"
   },
   {
    "duration": 2979,
    "start_time": "2023-02-14T20:25:33.588Z"
   },
   {
    "duration": 19,
    "start_time": "2023-02-14T20:25:36.569Z"
   },
   {
    "duration": 19,
    "start_time": "2023-02-14T20:25:36.590Z"
   },
   {
    "duration": 19,
    "start_time": "2023-02-14T20:25:36.610Z"
   },
   {
    "duration": 13,
    "start_time": "2023-02-14T20:25:36.631Z"
   },
   {
    "duration": 14,
    "start_time": "2023-02-14T20:25:36.646Z"
   },
   {
    "duration": 6,
    "start_time": "2023-02-14T20:25:36.661Z"
   },
   {
    "duration": 10,
    "start_time": "2023-02-14T20:25:36.669Z"
   },
   {
    "duration": 9,
    "start_time": "2023-02-14T20:25:36.682Z"
   },
   {
    "duration": 303,
    "start_time": "2023-02-14T20:25:36.693Z"
   },
   {
    "duration": 6,
    "start_time": "2023-02-14T20:25:36.997Z"
   },
   {
    "duration": 12,
    "start_time": "2023-02-14T20:25:37.005Z"
   },
   {
    "duration": 271,
    "start_time": "2023-02-14T20:25:37.019Z"
   },
   {
    "duration": 20,
    "start_time": "2023-02-14T20:25:37.291Z"
   },
   {
    "duration": 7,
    "start_time": "2023-02-14T20:25:37.313Z"
   },
   {
    "duration": 17,
    "start_time": "2023-02-14T20:25:37.321Z"
   },
   {
    "duration": 24,
    "start_time": "2023-02-14T20:25:37.339Z"
   },
   {
    "duration": 7,
    "start_time": "2023-02-14T20:25:37.364Z"
   },
   {
    "duration": 1356,
    "start_time": "2023-02-14T20:25:37.374Z"
   },
   {
    "duration": 1206,
    "start_time": "2023-02-14T20:25:38.731Z"
   },
   {
    "duration": 1207,
    "start_time": "2023-02-14T20:25:39.939Z"
   },
   {
    "duration": 451,
    "start_time": "2023-02-14T20:25:41.149Z"
   },
   {
    "duration": 8,
    "start_time": "2023-02-14T20:25:41.602Z"
   },
   {
    "duration": 528,
    "start_time": "2023-02-14T20:25:41.612Z"
   },
   {
    "duration": 16,
    "start_time": "2023-02-14T20:25:42.142Z"
   },
   {
    "duration": 19,
    "start_time": "2023-02-14T20:25:42.159Z"
   },
   {
    "duration": 33,
    "start_time": "2023-02-14T20:25:42.181Z"
   },
   {
    "duration": 20,
    "start_time": "2023-02-14T20:25:42.216Z"
   },
   {
    "duration": 8,
    "start_time": "2023-02-14T20:25:42.237Z"
   },
   {
    "duration": 11,
    "start_time": "2023-02-14T20:25:42.246Z"
   },
   {
    "duration": 4,
    "start_time": "2023-02-14T20:25:42.258Z"
   },
   {
    "duration": 6,
    "start_time": "2023-02-14T20:25:42.263Z"
   },
   {
    "duration": 7,
    "start_time": "2023-02-14T20:25:42.270Z"
   },
   {
    "duration": 12,
    "start_time": "2023-02-14T20:25:42.304Z"
   },
   {
    "duration": 6,
    "start_time": "2023-02-14T20:25:42.318Z"
   },
   {
    "duration": 13,
    "start_time": "2023-02-14T20:25:42.326Z"
   },
   {
    "duration": 3772,
    "start_time": "2023-02-14T20:25:42.341Z"
   },
   {
    "duration": 88,
    "start_time": "2023-02-14T20:25:46.116Z"
   },
   {
    "duration": 6,
    "start_time": "2023-02-14T20:25:46.206Z"
   },
   {
    "duration": 136539,
    "start_time": "2023-02-14T20:25:46.214Z"
   },
   {
    "duration": 4,
    "start_time": "2023-02-14T20:28:02.755Z"
   },
   {
    "duration": 51425,
    "start_time": "2023-02-14T20:28:02.760Z"
   },
   {
    "duration": 3,
    "start_time": "2023-02-14T20:28:54.186Z"
   },
   {
    "duration": 6,
    "start_time": "2023-02-14T20:28:54.190Z"
   },
   {
    "duration": 3,
    "start_time": "2023-02-14T20:28:54.203Z"
   },
   {
    "duration": 73221,
    "start_time": "2023-02-14T20:28:54.208Z"
   },
   {
    "duration": 4,
    "start_time": "2023-02-14T20:30:07.430Z"
   },
   {
    "duration": 3011,
    "start_time": "2023-02-14T20:30:07.435Z"
   },
   {
    "duration": 8,
    "start_time": "2023-02-14T20:30:10.448Z"
   },
   {
    "duration": 6190,
    "start_time": "2023-02-14T20:30:10.458Z"
   },
   {
    "duration": 5802,
    "start_time": "2023-02-14T20:34:58.855Z"
   },
   {
    "duration": 5759,
    "start_time": "2023-02-14T20:35:43.173Z"
   },
   {
    "duration": 6008,
    "start_time": "2023-02-14T20:35:50.559Z"
   },
   {
    "duration": 5898,
    "start_time": "2023-02-14T20:36:07.830Z"
   },
   {
    "duration": 77,
    "start_time": "2023-02-14T20:48:25.486Z"
   }
  ],
  "kernelspec": {
   "display_name": "Python 3 (ipykernel)",
   "language": "python",
   "name": "python3"
  },
  "language_info": {
   "codemirror_mode": {
    "name": "ipython",
    "version": 3
   },
   "file_extension": ".py",
   "mimetype": "text/x-python",
   "name": "python",
   "nbconvert_exporter": "python",
   "pygments_lexer": "ipython3",
   "version": "3.11.4"
  },
  "toc": {
   "base_numbering": 1,
   "nav_menu": {},
   "number_sections": true,
   "sideBar": true,
   "skip_h1_title": true,
   "title_cell": "Содержание",
   "title_sidebar": "Contents",
   "toc_cell": true,
   "toc_position": {
    "height": "calc(100% - 180px)",
    "left": "10px",
    "top": "150px",
    "width": "274px"
   },
   "toc_section_display": true,
   "toc_window_display": true
  }
 },
 "nbformat": 4,
 "nbformat_minor": 2
}
